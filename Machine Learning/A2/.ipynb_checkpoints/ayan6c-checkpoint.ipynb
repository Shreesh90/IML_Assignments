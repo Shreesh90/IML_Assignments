{
 "cells": [
  {
   "cell_type": "code",
   "execution_count": 1,
   "metadata": {
    "id": "a-1zBsKSwMqR"
   },
   "outputs": [],
   "source": [
    "import numpy as np\n",
    "import pandas as pd\n",
    "import random\n",
    "import math"
   ]
  },
  {
   "cell_type": "code",
   "execution_count": 2,
   "metadata": {
    "colab": {
     "base_uri": "https://localhost:8080/",
     "height": 205
    },
    "id": "PwdSpLTqxgY4",
    "outputId": "a6701548-9687-4102-dec2-7413131a9df5"
   },
   "outputs": [
    {
     "data": {
      "text/html": [
       "<div>\n",
       "<style scoped>\n",
       "    .dataframe tbody tr th:only-of-type {\n",
       "        vertical-align: middle;\n",
       "    }\n",
       "\n",
       "    .dataframe tbody tr th {\n",
       "        vertical-align: top;\n",
       "    }\n",
       "\n",
       "    .dataframe thead th {\n",
       "        text-align: right;\n",
       "    }\n",
       "</style>\n",
       "<table border=\"1\" class=\"dataframe\">\n",
       "  <thead>\n",
       "    <tr style=\"text-align: right;\">\n",
       "      <th></th>\n",
       "      <th>Unnamed: 0</th>\n",
       "      <th>price</th>\n",
       "      <th>lotsize</th>\n",
       "      <th>bedrooms</th>\n",
       "      <th>bathrms</th>\n",
       "      <th>stories</th>\n",
       "      <th>driveway</th>\n",
       "      <th>recroom</th>\n",
       "      <th>fullbase</th>\n",
       "      <th>gashw</th>\n",
       "      <th>airco</th>\n",
       "      <th>garagepl</th>\n",
       "      <th>prefarea</th>\n",
       "    </tr>\n",
       "  </thead>\n",
       "  <tbody>\n",
       "    <tr>\n",
       "      <th>0</th>\n",
       "      <td>1</td>\n",
       "      <td>42000.0</td>\n",
       "      <td>5850</td>\n",
       "      <td>3</td>\n",
       "      <td>1</td>\n",
       "      <td>2</td>\n",
       "      <td>yes</td>\n",
       "      <td>no</td>\n",
       "      <td>yes</td>\n",
       "      <td>no</td>\n",
       "      <td>no</td>\n",
       "      <td>1</td>\n",
       "      <td>no</td>\n",
       "    </tr>\n",
       "    <tr>\n",
       "      <th>1</th>\n",
       "      <td>2</td>\n",
       "      <td>38500.0</td>\n",
       "      <td>4000</td>\n",
       "      <td>2</td>\n",
       "      <td>1</td>\n",
       "      <td>1</td>\n",
       "      <td>yes</td>\n",
       "      <td>no</td>\n",
       "      <td>no</td>\n",
       "      <td>no</td>\n",
       "      <td>no</td>\n",
       "      <td>0</td>\n",
       "      <td>no</td>\n",
       "    </tr>\n",
       "    <tr>\n",
       "      <th>2</th>\n",
       "      <td>3</td>\n",
       "      <td>49500.0</td>\n",
       "      <td>3060</td>\n",
       "      <td>3</td>\n",
       "      <td>1</td>\n",
       "      <td>1</td>\n",
       "      <td>yes</td>\n",
       "      <td>no</td>\n",
       "      <td>no</td>\n",
       "      <td>no</td>\n",
       "      <td>no</td>\n",
       "      <td>0</td>\n",
       "      <td>no</td>\n",
       "    </tr>\n",
       "    <tr>\n",
       "      <th>3</th>\n",
       "      <td>4</td>\n",
       "      <td>60500.0</td>\n",
       "      <td>6650</td>\n",
       "      <td>3</td>\n",
       "      <td>1</td>\n",
       "      <td>2</td>\n",
       "      <td>yes</td>\n",
       "      <td>yes</td>\n",
       "      <td>no</td>\n",
       "      <td>no</td>\n",
       "      <td>no</td>\n",
       "      <td>0</td>\n",
       "      <td>no</td>\n",
       "    </tr>\n",
       "    <tr>\n",
       "      <th>4</th>\n",
       "      <td>5</td>\n",
       "      <td>61000.0</td>\n",
       "      <td>6360</td>\n",
       "      <td>2</td>\n",
       "      <td>1</td>\n",
       "      <td>1</td>\n",
       "      <td>yes</td>\n",
       "      <td>no</td>\n",
       "      <td>no</td>\n",
       "      <td>no</td>\n",
       "      <td>no</td>\n",
       "      <td>0</td>\n",
       "      <td>no</td>\n",
       "    </tr>\n",
       "  </tbody>\n",
       "</table>\n",
       "</div>"
      ],
      "text/plain": [
       "   Unnamed: 0    price  lotsize  bedrooms  ...  gashw  airco garagepl prefarea\n",
       "0           1  42000.0     5850         3  ...     no     no        1       no\n",
       "1           2  38500.0     4000         2  ...     no     no        0       no\n",
       "2           3  49500.0     3060         3  ...     no     no        0       no\n",
       "3           4  60500.0     6650         3  ...     no     no        0       no\n",
       "4           5  61000.0     6360         2  ...     no     no        0       no\n",
       "\n",
       "[5 rows x 13 columns]"
      ]
     },
     "execution_count": 2,
     "metadata": {},
     "output_type": "execute_result"
    }
   ],
   "source": [
    "input_data = pd.read_csv(\"Housing Price data set.csv\")\n",
    "input_data.head()"
   ]
  },
  {
   "cell_type": "code",
   "execution_count": 3,
   "metadata": {
    "id": "iNsaimUjxmtx"
   },
   "outputs": [],
   "source": [
    "Price = input_data['price']\n",
    "FloorArea = input_data['lotsize']\n",
    "NoOfBedrooms = input_data['bedrooms']\n",
    "NoOfBathrooms = input_data['bathrms']\n",
    "\n",
    "#lot size is not correctly scaled so use feature scaling on FloorArea"
   ]
  },
  {
   "cell_type": "markdown",
   "metadata": {
    "id": "sLMEEQ4lx44m"
   },
   "source": [
    "##feature scaling"
   ]
  },
  {
   "cell_type": "code",
   "execution_count": 4,
   "metadata": {
    "id": "JAqhbhbkxnu4"
   },
   "outputs": [],
   "source": [
    "FloorArea_Mean = np.mean(FloorArea)\n",
    "FloorArea_Max = max(FloorArea)\n",
    "FloorArea_Min = min(FloorArea)\n",
    "FloorArea_Scaled = []\n",
    "for i in FloorArea:\n",
    "\tFloorArea_Scaled.append((i - FloorArea_Mean) / (FloorArea_Max - FloorArea_Min))\n"
   ]
  },
  {
   "cell_type": "markdown",
   "metadata": {
    "id": "whn-nD6zyKFV"
   },
   "source": [
    "##setting up training and test data"
   ]
  },
  {
   "cell_type": "code",
   "execution_count": 6,
   "metadata": {
    "id": "QHVDNTiiyB9l"
   },
   "outputs": [],
   "source": [
    "FloorAreaTrain = FloorArea_Scaled[:383]\n",
    "NoOfBathroomsTrain = NoOfBathrooms[:383]\n",
    "NoOfBedroomsTrain = NoOfBedrooms[:383]\n",
    "PriceTrain = Price[:383]\n",
    "FloorAreaTest = FloorArea[383:]\n",
    "NoOfBathroomsTest = NoOfBathrooms[383:]\n",
    "NoOfBedroomsTest = NoOfBedrooms[383:]\n",
    "PriceTest = Price[383:]\n"
   ]
  },
  {
   "cell_type": "markdown",
   "metadata": {
    "id": "-_s1EYwqyXAU"
   },
   "source": [
    "##batch gradient descent without regularization "
   ]
  },
  {
   "cell_type": "code",
   "execution_count": 7,
   "metadata": {
    "id": "aks3u0wTyPch"
   },
   "outputs": [],
   "source": [
    "XTrain = []\n",
    "for i in range(383):\n",
    "\tXTrain.append([1, FloorArea_Scaled[i], NoOfBedrooms[i], NoOfBathrooms[i]])\n",
    " \n",
    "XTest = []\n",
    "n = len(FloorAreaTest)\n",
    "for i in range(383,383+n):\n",
    "  XTest.append([1,FloorArea_Scaled[i],NoOfBedrooms[i],NoOfBathrooms[i]])"
   ]
  },
  {
   "cell_type": "code",
   "execution_count": 13,
   "metadata": {
    "colab": {
     "base_uri": "https://localhost:8080/"
    },
    "id": "_F3ACEH8ykN8",
    "outputId": "9705424b-e3d7-4a6a-b51c-6c507ec11005"
   },
   "outputs": [
    {
     "name": "stdout",
     "output_type": "stream",
     "text": [
      "Cefficients are  [[ 7730.87205387]\n",
      " [ 8069.26430369]\n",
      " [11077.01540589]\n",
      " [18485.56912245]]\n"
     ]
    }
   ],
   "source": [
    "x = np.array(XTrain)\n",
    "y = np.array(PriceTrain)\n",
    "w = np.array(([0],[0],[0],[0]))\n",
    "y = y.reshape(len(y),1)\n",
    "# print(w)\n",
    "\n",
    "def product(w,x):\n",
    "    ans=0\n",
    "    for i in range(w.shape[0]):\n",
    "        ans+=w[i][0]*x[i]\n",
    "    return ans\n",
    "\n",
    "def gradient(x,w,y):\n",
    "    ans=np.zeros(w.shape[0])\n",
    "    for i in range(x.shape[0]):\n",
    "        ans=(ans+(product(w,x[i])-y[i][0])*x[i])\n",
    "    ans=ans.reshape(w.shape[0],1)\n",
    "    return ans\n",
    "\n",
    "lr=0.001\n",
    "for i in range(5000):\n",
    "  w = w-lr*gradient(x,w,y)/x.shape[0]\n",
    "\n",
    "print(\"Cefficients are \",w)\n"
   ]
  },
  {
   "cell_type": "code",
   "execution_count": 14,
   "metadata": {
    "colab": {
     "base_uri": "https://localhost:8080/"
    },
    "id": "zxnUacpByl64",
    "outputId": "ba22da8b-7fad-41f6-dae1-94e17d1cb4c2"
   },
   "outputs": [
    {
     "name": "stdout",
     "output_type": "stream",
     "text": [
      "mean absolute percentage error is  20.340465424974482\n"
     ]
    }
   ],
   "source": [
    "# mean absolute percentage error\n",
    "x_test = np.array(XTest)\n",
    "y_test = np.array(PriceTest)\n",
    "y_pred = np.dot(x_test,w)\n",
    "\n",
    "n = x_test.shape[0]\n",
    "mat = 0\n",
    "\n",
    "for i in range(n):\n",
    "  mat = mat + abs(y_pred[i][0]-y_test[i])/y_test[i]\n",
    "mat = mat*100/n\n",
    "print(\"mean absolute percentage error is \",mat)"
   ]
  },
  {
   "cell_type": "markdown",
   "metadata": {
    "id": "R2gCgxAEzjoA"
   },
   "source": [
    "##batch gradient descent with regularization "
   ]
  },
  {
   "cell_type": "code",
   "execution_count": 15,
   "metadata": {
    "id": "PivOamgbzI6M"
   },
   "outputs": [],
   "source": [
    "XTrain = []\n",
    "for i in range(383):\n",
    "\tXTrain.append([1, FloorArea_Scaled[i], NoOfBedrooms[i], NoOfBathrooms[i]])\n",
    " \n",
    "XTest = []\n",
    "n = len(FloorAreaTest)\n",
    "for i in range(383,383+n):\n",
    "  XTest.append([1,FloorArea_Scaled[i],NoOfBedrooms[i],NoOfBathrooms[i]])"
   ]
  },
  {
   "cell_type": "code",
   "execution_count": 30,
   "metadata": {
    "colab": {
     "base_uri": "https://localhost:8080/"
    },
    "id": "VcvUQCin1AIK",
    "outputId": "4acf0be0-d3ca-4500-baae-2a6f0155bb12"
   },
   "outputs": [
    {
     "name": "stdout",
     "output_type": "stream",
     "text": [
      "Cefficients are  [[11027.93238871]\n",
      " [19272.80715199]\n",
      " [ 5262.5362372 ]\n",
      " [31018.09747139]]\n",
      "mean absolute percentage error is  18.84547313581711\n"
     ]
    }
   ],
   "source": [
    "x = np.array(XTrain)\n",
    "y = np.array(PriceTrain)\n",
    "w = np.array(([0],[0],[0],[0]))\n",
    "y = y.reshape(len(y),1)\n",
    "# print(w)\n",
    "\n",
    "def product(w,x):\n",
    "    ans=0\n",
    "    for i in range(w.shape[0]):\n",
    "        ans+=w[i][0]*x[i]\n",
    "    return ans\n",
    "\n",
    "def gradient(x,w,y):\n",
    "    ans=np.zeros(w.shape[0])\n",
    "    for i in range(x.shape[0]):\n",
    "        ans=(ans+(product(w,x[i])-y[i][0])*x[i])\n",
    "    ans=ans.reshape(w.shape[0],1)\n",
    "    return ans\n",
    "\n",
    "lamda = -120\n",
    "lr=0.001\n",
    "m = x.shape[0]\n",
    "for i in range(5000):\n",
    "  temp = 1-((lr*lamda)/m)\n",
    "  w = temp*w-lr*gradient(x,w,y)/m\n",
    "\n",
    "print(\"Cefficients are \",w)\n",
    "\n",
    "\n",
    "# mean absolute percentage error\n",
    "x_test = np.array(XTest)\n",
    "y_test = np.array(PriceTest)\n",
    "y_pred = np.dot(x_test,w)\n",
    "\n",
    "n = x_test.shape[0]\n",
    "mat = 0\n",
    "\n",
    "for i in range(n):\n",
    "  mat = mat + abs(y_pred[i][0]-y_test[i])/y_test[i]\n",
    "mat = mat*100/n\n",
    "print(\"mean absolute percentage error is \",mat)\n"
   ]
  },
  {
   "cell_type": "markdown",
   "metadata": {
    "id": "8iKCxi2l3Atq"
   },
   "source": [
    "##stochastic gradient descent without regularization "
   ]
  },
  {
   "cell_type": "code",
   "execution_count": 36,
   "metadata": {
    "id": "Y1Q-e3_J2NhL"
   },
   "outputs": [],
   "source": [
    "XTrain = []\n",
    "for i in range(383):\n",
    "\tXTrain.append([1, FloorArea_Scaled[i], NoOfBedrooms[i], NoOfBathrooms[i]])\n",
    " \n",
    "XTest = []\n",
    "n = len(FloorAreaTest)\n",
    "for i in range(383,383+n):\n",
    "  XTest.append([1,FloorArea_Scaled[i],NoOfBedrooms[i],NoOfBathrooms[i]])"
   ]
  },
  {
   "cell_type": "code",
   "execution_count": 43,
   "metadata": {
    "colab": {
     "base_uri": "https://localhost:8080/"
    },
    "id": "3vtKBRMU5DG_",
    "outputId": "e9f6407a-d5e5-4416-8ec8-f5d061ff9288"
   },
   "outputs": [
    {
     "name": "stdout",
     "output_type": "stream",
     "text": [
      "initial coefficients :  [0 0 0 0]\n",
      "coefficients are : [ 7066.46237694  2950.99882673 15492.0281167  13567.48755441]\n",
      "mean absolute percentage error 19.48284916668992\n"
     ]
    }
   ],
   "source": [
    "x = np.array(XTrain)\n",
    "y = np.array(PriceTrain)\n",
    "w = np.array([0,0,0,0])\n",
    "y = y.reshape(len(y),1)\n",
    "\n",
    "print(\"initial coefficients : \",w)\n",
    "\n",
    "def product(w,x):\n",
    "    ans=0\n",
    "    for i in range(x.shape[0]):\n",
    "        ans= ans +w[i]*x[i]\n",
    "    return ans\n",
    "\n",
    "\n",
    "lr=0.0005\n",
    "for itr in range(10):\n",
    "  for i in range(x.shape[0]):\n",
    "    grad = (product(w,x[i]) - y[i][0])*x[i]\n",
    "    w = w - lr*grad\n",
    "\n",
    "print(\"coefficients are :\",w)\n",
    "\n",
    "\n",
    "# mean absolute percentage error\n",
    "w = w.reshape((4,1))\n",
    "x_test = np.array(XTest)\n",
    "y_test = np.array(PriceTest)\n",
    "y_pred = np.dot(x_test,w)\n",
    "\n",
    "n = x_test.shape[0]\n",
    "mat = 0\n",
    "\n",
    "for i in range(n):\n",
    "  mat = mat + abs(y_pred[i][0]-y_test[i])/y_test[i]\n",
    "mat = mat*100/n\n",
    "print(\"mean absolute percentage error\",mat)"
   ]
  },
  {
   "cell_type": "markdown",
   "metadata": {
    "id": "no_ACvW-6mTk"
   },
   "source": [
    "##stochastic gradient descent with regulariation"
   ]
  },
  {
   "cell_type": "code",
   "execution_count": 44,
   "metadata": {
    "id": "JomnByR45LAj"
   },
   "outputs": [],
   "source": [
    "XTrain = []\n",
    "for i in range(383):\n",
    "\tXTrain.append([1, FloorArea_Scaled[i], NoOfBedrooms[i], NoOfBathrooms[i]])\n",
    " \n",
    "XTest = []\n",
    "n = len(FloorAreaTest)\n",
    "for i in range(383,383+n):\n",
    "  XTest.append([1,FloorArea_Scaled[i],NoOfBedrooms[i],NoOfBathrooms[i]])"
   ]
  },
  {
   "cell_type": "code",
   "execution_count": 61,
   "metadata": {
    "colab": {
     "base_uri": "https://localhost:8080/"
    },
    "id": "9AFJnOSl6rrE",
    "outputId": "cb6b0097-41e6-41a6-9f1e-ee8af34eebf5"
   },
   "outputs": [
    {
     "name": "stdout",
     "output_type": "stream",
     "text": [
      "initial coefficients :  [0 0 0 0]\n",
      "coefficients are : [ 7561.78154518  3648.22493081 15578.54381992 14766.89345013]\n",
      "mean absolute percentage error 19.220228232161407\n"
     ]
    }
   ],
   "source": [
    "x = np.array(XTrain)\n",
    "y = np.array(PriceTrain)\n",
    "w = np.array([0,0,0,0])\n",
    "y = y.reshape(len(y),1)\n",
    "\n",
    "print(\"initial coefficients : \",w)\n",
    "\n",
    "def product(w,x):\n",
    "    ans=0\n",
    "    for i in range(x.shape[0]):\n",
    "        ans= ans +w[i]*x[i]\n",
    "    return ans\n",
    "\n",
    "\n",
    "lr=0.0007\n",
    "lamda = 30\n",
    "for itr in range(10):\n",
    "  for i in range(x.shape[0]):\n",
    "    grad = (product(w,x[i]) - y[i][0])*x[i]\n",
    "    temp = 1-((lamda*lr)/x.shape[0])\n",
    "    w = temp*w - lr*grad\n",
    "\n",
    "print(\"coefficients are :\",w)\n",
    "\n",
    "\n",
    "# mean absolute percentage error\n",
    "w = w.reshape((4,1))\n",
    "x_test = np.array(XTest)\n",
    "y_test = np.array(PriceTest)\n",
    "y_pred = np.dot(x_test,w)\n",
    "\n",
    "n = x_test.shape[0]\n",
    "mat = 0\n",
    "\n",
    "for i in range(n):\n",
    "  mat = mat + abs(y_pred[i][0]-y_test[i])/y_test[i]\n",
    "mat = mat*100/n\n",
    "print(\"mean absolute percentage error\",mat)"
   ]
  },
  {
   "cell_type": "markdown",
   "metadata": {
    "id": "HGj3qmgp8MHV"
   },
   "source": [
    "##Mini batch gradient descent without regularization "
   ]
  },
  {
   "cell_type": "code",
   "execution_count": 62,
   "metadata": {
    "id": "KxbOBjjY7UXR"
   },
   "outputs": [],
   "source": [
    "XTrain = []\n",
    "for i in range(383):\n",
    "\tXTrain.append([1, FloorArea_Scaled[i], NoOfBedrooms[i], NoOfBathrooms[i]])\n",
    " \n",
    "XTest = []\n",
    "n = len(FloorAreaTest)\n",
    "for i in range(383,383+n):\n",
    "  XTest.append([1,FloorArea_Scaled[i],NoOfBedrooms[i],NoOfBathrooms[i]])"
   ]
  },
  {
   "cell_type": "code",
   "execution_count": 63,
   "metadata": {
    "colab": {
     "base_uri": "https://localhost:8080/"
    },
    "id": "8W-NZxfG9fw0",
    "outputId": "94f4f737-184b-4523-a5ae-4f98bc5df0c3"
   },
   "outputs": [
    {
     "name": "stdout",
     "output_type": "stream",
     "text": [
      "coefficients are  [ 6468.63363142  3178.38570759 14116.98255236 13180.97007062]\n",
      "mean absolute percentage error :  20.73412416483853\n"
     ]
    }
   ],
   "source": [
    "bs = 20;\n",
    "lr = 0.002\n",
    "\n",
    "x = np.array(XTrain)\n",
    "y = np.array(PriceTrain)\n",
    "w = np.array([0,0,0,0])\n",
    "y = y.reshape(len(y),1)\n",
    "\n",
    "def product(w,x):\n",
    "    ans=0\n",
    "    for i in range(x.shape[0]):\n",
    "        ans= ans +w[i]*x[i]\n",
    "    return ans\n",
    "\n",
    "def gradient(x,w,y,st,bs):\n",
    "    ans=np.zeros(w.shape[0])\n",
    "    for i in range(st,st+bs):\n",
    "        if(i>=x.shape[0]):\n",
    "          break\n",
    "        ans=(ans+(product(w,x[i])-y[i][0])*x[i])\n",
    "    return ans\n",
    "\n",
    "for itr in range(50):\n",
    "  for i in range(bs):\n",
    "    w = w - (lr*gradient(x,w,y,bs*i,bs))/bs\n",
    "print(\"coefficients are \",w)\n",
    "\n",
    "\n",
    "\n",
    "# mean absolute percentage error\n",
    "w = w.reshape((4,1))\n",
    "x_test = np.array(XTest)\n",
    "y_test = np.array(PriceTest)\n",
    "y_pred = np.dot(x_test,w)\n",
    "\n",
    "n = x_test.shape[0]\n",
    "mat = 0\n",
    "\n",
    "for i in range(n):\n",
    "  mat = mat + abs(y_pred[i][0]-y_test[i])/y_test[i]\n",
    "mat = mat*100/n\n",
    "print(\"mean absolute percentage error : \",mat)"
   ]
  },
  {
   "cell_type": "markdown",
   "metadata": {
    "id": "48P0wWcj9zJ8"
   },
   "source": [
    "##mini batch gradient descent with regularization"
   ]
  },
  {
   "cell_type": "code",
   "execution_count": 64,
   "metadata": {
    "id": "-4At1lz99mjF"
   },
   "outputs": [],
   "source": [
    "XTrain = []\n",
    "for i in range(383):\n",
    "\tXTrain.append([1, FloorArea_Scaled[i], NoOfBedrooms[i], NoOfBathrooms[i]])\n",
    " \n",
    "XTest = []\n",
    "n = len(FloorAreaTest)\n",
    "for i in range(383,383+n):\n",
    "  XTest.append([1,FloorArea_Scaled[i],NoOfBedrooms[i],NoOfBathrooms[i]])"
   ]
  },
  {
   "cell_type": "code",
   "execution_count": 93,
   "metadata": {
    "colab": {
     "base_uri": "https://localhost:8080/"
    },
    "id": "4TqMtY3d94kO",
    "outputId": "14608ecf-a83c-40c1-f7c2-d595612c893b"
   },
   "outputs": [
    {
     "name": "stdout",
     "output_type": "stream",
     "text": [
      "coefficients are  [ 6802.54319877  2164.79514811 16738.51873791 12630.76047913]\n",
      "mean absolute percentage error :  19.6420959014144\n"
     ]
    }
   ],
   "source": [
    "bs = 25;\n",
    "lr = 0.001\n",
    "lamda = -20\n",
    "\n",
    "x = np.array(XTrain)\n",
    "y = np.array(PriceTrain)\n",
    "w = np.array([0,0,0,0])\n",
    "y = y.reshape(len(y),1)\n",
    "\n",
    "def product(w,x):\n",
    "    ans=0\n",
    "    for i in range(x.shape[0]):\n",
    "        ans= ans +w[i]*x[i]\n",
    "    return ans\n",
    "\n",
    "def gradient(x,w,y,st,bs):\n",
    "    ans=np.zeros(w.shape[0])\n",
    "    for i in range(st,st+bs):\n",
    "        if(i>=x.shape[0]):\n",
    "          break\n",
    "        ans=(ans+(product(w,x[i])-y[i][0])*x[i])\n",
    "    return ans\n",
    "\n",
    "for itr in range(50):\n",
    "  for i in range(bs):\n",
    "    temp = 1-((lamda*lr)/bs)\n",
    "    w = temp*w - (lr*gradient(x,w,y,bs*i,bs))/bs\n",
    "print(\"coefficients are \",w)\n",
    "\n",
    "\n",
    "\n",
    "# mean absolute percentage error\n",
    "w = w.reshape((4,1))\n",
    "x_test = np.array(XTest)\n",
    "y_test = np.array(PriceTest)\n",
    "y_pred = np.dot(x_test,w)\n",
    "\n",
    "n = x_test.shape[0]\n",
    "mat = 0\n",
    "\n",
    "for i in range(n):\n",
    "  mat = mat + abs(y_pred[i][0]-y_test[i])/y_test[i]\n",
    "mat = mat*100/n\n",
    "print(\"mean absolute percentage error : \",mat)"
   ]
  },
  {
   "cell_type": "code",
   "execution_count": null,
   "metadata": {
    "id": "7IJrTAGF-QcV"
   },
   "outputs": [],
   "source": []
  }
 ],
 "metadata": {
  "colab": {
   "name": "6c.ipynb",
   "provenance": []
  },
  "kernelspec": {
   "display_name": "Python 3 (ipykernel)",
   "language": "python",
   "name": "python3"
  },
  "language_info": {
   "codemirror_mode": {
    "name": "ipython",
    "version": 3
   },
   "file_extension": ".py",
   "mimetype": "text/x-python",
   "name": "python",
   "nbconvert_exporter": "python",
   "pygments_lexer": "ipython3",
   "version": "3.8.10"
  }
 },
 "nbformat": 4,
 "nbformat_minor": 1
}
