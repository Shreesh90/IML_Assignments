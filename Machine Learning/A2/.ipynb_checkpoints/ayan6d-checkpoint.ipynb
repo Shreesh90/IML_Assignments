{
 "cells": [
  {
   "cell_type": "code",
   "execution_count": 13,
   "metadata": {
    "id": "9BolzQGXHdo5"
   },
   "outputs": [],
   "source": [
    "import numpy as np\n",
    "import pandas as pd\n",
    "import matplotlib.pyplot as plt\n",
    "import cv2"
   ]
  },
  {
   "cell_type": "code",
   "execution_count": 12,
   "metadata": {
    "colab": {
     "base_uri": "https://localhost:8080/",
     "height": 205
    },
    "id": "Kh9vBXkBJh50",
    "outputId": "5931d928-7769-4026-ed31-8fa7cf0d6736"
   },
   "outputs": [
    {
     "data": {
      "text/html": [
       "<div>\n",
       "<style scoped>\n",
       "    .dataframe tbody tr th:only-of-type {\n",
       "        vertical-align: middle;\n",
       "    }\n",
       "\n",
       "    .dataframe tbody tr th {\n",
       "        vertical-align: top;\n",
       "    }\n",
       "\n",
       "    .dataframe thead th {\n",
       "        text-align: right;\n",
       "    }\n",
       "</style>\n",
       "<table border=\"1\" class=\"dataframe\">\n",
       "  <thead>\n",
       "    <tr style=\"text-align: right;\">\n",
       "      <th></th>\n",
       "      <th>Unnamed: 0</th>\n",
       "      <th>price</th>\n",
       "      <th>lotsize</th>\n",
       "      <th>bedrooms</th>\n",
       "      <th>bathrms</th>\n",
       "      <th>stories</th>\n",
       "      <th>driveway</th>\n",
       "      <th>recroom</th>\n",
       "      <th>fullbase</th>\n",
       "      <th>gashw</th>\n",
       "      <th>airco</th>\n",
       "      <th>garagepl</th>\n",
       "      <th>prefarea</th>\n",
       "    </tr>\n",
       "  </thead>\n",
       "  <tbody>\n",
       "    <tr>\n",
       "      <th>0</th>\n",
       "      <td>1</td>\n",
       "      <td>42000.0</td>\n",
       "      <td>5850</td>\n",
       "      <td>3</td>\n",
       "      <td>1</td>\n",
       "      <td>2</td>\n",
       "      <td>yes</td>\n",
       "      <td>no</td>\n",
       "      <td>yes</td>\n",
       "      <td>no</td>\n",
       "      <td>no</td>\n",
       "      <td>1</td>\n",
       "      <td>no</td>\n",
       "    </tr>\n",
       "    <tr>\n",
       "      <th>1</th>\n",
       "      <td>2</td>\n",
       "      <td>38500.0</td>\n",
       "      <td>4000</td>\n",
       "      <td>2</td>\n",
       "      <td>1</td>\n",
       "      <td>1</td>\n",
       "      <td>yes</td>\n",
       "      <td>no</td>\n",
       "      <td>no</td>\n",
       "      <td>no</td>\n",
       "      <td>no</td>\n",
       "      <td>0</td>\n",
       "      <td>no</td>\n",
       "    </tr>\n",
       "    <tr>\n",
       "      <th>2</th>\n",
       "      <td>3</td>\n",
       "      <td>49500.0</td>\n",
       "      <td>3060</td>\n",
       "      <td>3</td>\n",
       "      <td>1</td>\n",
       "      <td>1</td>\n",
       "      <td>yes</td>\n",
       "      <td>no</td>\n",
       "      <td>no</td>\n",
       "      <td>no</td>\n",
       "      <td>no</td>\n",
       "      <td>0</td>\n",
       "      <td>no</td>\n",
       "    </tr>\n",
       "    <tr>\n",
       "      <th>3</th>\n",
       "      <td>4</td>\n",
       "      <td>60500.0</td>\n",
       "      <td>6650</td>\n",
       "      <td>3</td>\n",
       "      <td>1</td>\n",
       "      <td>2</td>\n",
       "      <td>yes</td>\n",
       "      <td>yes</td>\n",
       "      <td>no</td>\n",
       "      <td>no</td>\n",
       "      <td>no</td>\n",
       "      <td>0</td>\n",
       "      <td>no</td>\n",
       "    </tr>\n",
       "    <tr>\n",
       "      <th>4</th>\n",
       "      <td>5</td>\n",
       "      <td>61000.0</td>\n",
       "      <td>6360</td>\n",
       "      <td>2</td>\n",
       "      <td>1</td>\n",
       "      <td>1</td>\n",
       "      <td>yes</td>\n",
       "      <td>no</td>\n",
       "      <td>no</td>\n",
       "      <td>no</td>\n",
       "      <td>no</td>\n",
       "      <td>0</td>\n",
       "      <td>no</td>\n",
       "    </tr>\n",
       "  </tbody>\n",
       "</table>\n",
       "</div>"
      ],
      "text/plain": [
       "   Unnamed: 0    price  lotsize  bedrooms  ...  gashw  airco garagepl prefarea\n",
       "0           1  42000.0     5850         3  ...     no     no        1       no\n",
       "1           2  38500.0     4000         2  ...     no     no        0       no\n",
       "2           3  49500.0     3060         3  ...     no     no        0       no\n",
       "3           4  60500.0     6650         3  ...     no     no        0       no\n",
       "4           5  61000.0     6360         2  ...     no     no        0       no\n",
       "\n",
       "[5 rows x 13 columns]"
      ]
     },
     "execution_count": 12,
     "metadata": {},
     "output_type": "execute_result"
    }
   ],
   "source": [
    "url = \"https://raw.githubusercontent.com/Ayan0904/MLAssignment/master/Housing%20Price%20data%20set.csv\"\n",
    "input_data = pd.read_csv(url)\n",
    "input_data.head()"
   ]
  },
  {
   "cell_type": "code",
   "execution_count": 14,
   "metadata": {
    "id": "GcxOiiwnJ3C2"
   },
   "outputs": [],
   "source": [
    "FloorArea = input_data['lotsize']\n",
    "NoOfBedrooms = input_data['bedrooms']\n",
    "NoOfBathrooms = input_data['bathrms']\n",
    "MatrixY = input_data['price']\n",
    "MatrixY = np.array(MatrixY)\n",
    "MatrixY = MatrixY.reshape(MatrixY.shape[0], 1)"
   ]
  },
  {
   "cell_type": "markdown",
   "metadata": {
    "id": "U9miLxgRdM4h"
   },
   "source": [
    "##feature scaling"
   ]
  },
  {
   "cell_type": "code",
   "execution_count": 15,
   "metadata": {
    "id": "iaN_kgxRKTvb"
   },
   "outputs": [],
   "source": [
    "# Performing feature scanning on FloorArea\n",
    "FloorArea_Mean = np.mean(FloorArea)\n",
    "FloorArea_Max = max(FloorArea)\n",
    "FloorArea_Min = min(FloorArea)\n",
    "FloorArea_Scaled = []\n",
    "for i in FloorArea:\n",
    "\tFloorArea_Scaled.append((i - FloorArea_Mean) / (FloorArea_Max - FloorArea_Min))\n"
   ]
  },
  {
   "cell_type": "markdown",
   "metadata": {
    "id": "pHz_3eLtdxs-"
   },
   "source": [
    "##Linear Weighted Regression "
   ]
  },
  {
   "cell_type": "code",
   "execution_count": 16,
   "metadata": {
    "id": "Ca7fRqyXddIb"
   },
   "outputs": [],
   "source": [
    "def calculate_error(MatrixY, Y_pred):\n",
    "    error = 0\n",
    "    for i in range(len(MatrixY)):\n",
    "        error += abs(MatrixY[i] - Y_pred[i]) / MatrixY[i]\n",
    "    error = error / len(MatrixY)\n",
    "    return error * 100\n",
    "\n",
    "def kernel(MatrixX, xi, HyperParameterTau):\n",
    "    return np.exp(-np.sum((xi - MatrixX) ** 2, axis = 1) / (2 * HyperParameterTau * HyperParameterTau))\n",
    "\n",
    "def LocallyWeightedLR(MatrixX, xi, MatrixY, HyperParameterTau):\n",
    "\tTransposeMatrixX = np.transpose(MatrixX)\n",
    "\tW = kernel(MatrixX, xi, HyperParameterTau)\n",
    "\tMatrixXTransposeW = TransposeMatrixX * W\n",
    "\tMatrixXTransposeWX = np.matmul(MatrixXTransposeW, MatrixX)\n",
    "\tInverseMatrixXTransposeWX = np.linalg.pinv(MatrixXTransposeWX)\n",
    "\tInverseMatrixXTransposeWXMatrixXTransposeW = np.matmul(InverseMatrixXTransposeWX, MatrixXTransposeW)\n",
    "\tInverseMatrixXTransposeWXMatrixXTransposeWY = np.matmul(InverseMatrixXTransposeWXMatrixXTransposeW, MatrixY)\n",
    "\tInverseMatrixXTransposeWXMatrixXTransposeWYTranspose = np.transpose(InverseMatrixXTransposeWXMatrixXTransposeWY)\n",
    "\treturn InverseMatrixXTransposeWXMatrixXTransposeWYTranspose.dot(xi)\n"
   ]
  },
  {
   "cell_type": "code",
   "execution_count": 17,
   "metadata": {
    "colab": {
     "base_uri": "https://localhost:8080/"
    },
    "id": "s6F7ilzxddjs",
    "outputId": "a92a304e-2767-42c7-ddd2-34e55bd69630"
   },
   "outputs": [
    {
     "name": "stdout",
     "output_type": "stream",
     "text": [
      "Using Locally Weighted Linear Regression for Tau = 5e-05\n",
      "Mean absolute percentage error is : [5.40732082]\n",
      "\n"
     ]
    }
   ],
   "source": [
    "MatrixX = []\n",
    "for i in range(len(FloorArea)):\n",
    "\tMatrixX.append([1, FloorArea_Scaled[i], NoOfBedrooms[i], NoOfBathrooms[i]])\n",
    "MatrixX = np.array(MatrixX)\n",
    "\n",
    "HyperParameterTau = 0.00005\n",
    "print(\"Using Locally Weighted Linear Regression for Tau = \" + str(HyperParameterTau))\n",
    "pred = []\n",
    "for i in range(MatrixX.shape[0]):\n",
    "\ty_pred = LocallyWeightedLR(MatrixX, MatrixX[i], MatrixY, HyperParameterTau)\n",
    "\tpred.append(y_pred)\n",
    "print(\"Mean absolute percentage error is : \" + str(calculate_error(MatrixY,pred)))\n",
    "print()"
   ]
  },
  {
   "cell_type": "markdown",
   "metadata": {
    "id": "npTfrOS8d9XL"
   },
   "source": [
    "##Batch gradient descent with regularization "
   ]
  },
  {
   "cell_type": "code",
   "execution_count": 18,
   "metadata": {
    "id": "iOyxQTKTdmC_"
   },
   "outputs": [],
   "source": [
    "FloorAreaTrain = FloorArea_Scaled[:383]\n",
    "NoOfBathroomsTrain = NoOfBathrooms[:383]\n",
    "NoOfBedroomsTrain = NoOfBedrooms[:383]\n",
    "PriceTrain = Price[:383]\n",
    "FloorAreaTest = FloorArea[383:]\n",
    "NoOfBathroomsTest = NoOfBathrooms[383:]\n",
    "NoOfBedroomsTest = NoOfBedrooms[383:]\n",
    "PriceTest = Price[383:]\n"
   ]
  },
  {
   "cell_type": "code",
   "execution_count": 19,
   "metadata": {
    "id": "A42R3KY-eLy0"
   },
   "outputs": [],
   "source": [
    "XTrain = []\n",
    "for i in range(383):\n",
    "\tXTrain.append([1, FloorArea_Scaled[i], NoOfBedrooms[i], NoOfBathrooms[i]])\n",
    " \n",
    "XTest = []\n",
    "n = len(FloorAreaTest)\n",
    "for i in range(383,383+n):\n",
    "  XTest.append([1,FloorArea_Scaled[i],NoOfBedrooms[i],NoOfBathrooms[i]])"
   ]
  },
  {
   "cell_type": "code",
   "execution_count": 20,
   "metadata": {
    "colab": {
     "base_uri": "https://localhost:8080/"
    },
    "id": "3tvxIkCveWvv",
    "outputId": "d62b7721-b840-4f69-e47a-fbdf9e034169"
   },
   "outputs": [
    {
     "name": "stdout",
     "output_type": "stream",
     "text": [
      "Cefficients are  [[11027.93238871]\n",
      " [19272.80715199]\n",
      " [ 5262.5362372 ]\n",
      " [31018.09747139]]\n",
      "mean absolute percentage error is  18.84547313581711\n"
     ]
    }
   ],
   "source": [
    "lr = 0.001  #learning rate \n",
    "lamda = -120  #lambda value\n",
    "x = np.array(XTrain)\n",
    "y = np.array(PriceTrain)\n",
    "w = np.array(([0],[0],[0],[0]))\n",
    "y = y.reshape(len(y),1)\n",
    "# print(w)\n",
    "\n",
    "def product(w,x):\n",
    "    ans=0\n",
    "    for i in range(w.shape[0]):\n",
    "        ans+=w[i][0]*x[i]\n",
    "    return ans\n",
    "\n",
    "def gradient(x,w,y):\n",
    "    ans=np.zeros(w.shape[0])\n",
    "    for i in range(x.shape[0]):\n",
    "        ans=(ans+(product(w,x[i])-y[i][0])*x[i])\n",
    "    ans=ans.reshape(w.shape[0],1)\n",
    "    return ans\n",
    "\n",
    "m = x.shape[0]\n",
    "for i in range(5000):\n",
    "  temp = 1-((lr*lamda)/m)\n",
    "  w = temp*w-lr*gradient(x,w,y)/m\n",
    "\n",
    "print(\"Cefficients are \",w)\n",
    "\n",
    "\n",
    "# mean absolute percentage error\n",
    "x_test = np.array(XTest)\n",
    "y_test = np.array(PriceTest)\n",
    "y_pred = np.dot(x_test,w)\n",
    "\n",
    "n = x_test.shape[0]\n",
    "mat = 0\n",
    "\n",
    "for i in range(n):\n",
    "  mat = mat + abs(y_pred[i][0]-y_test[i])/y_test[i]\n",
    "mat = mat*100/n\n",
    "print(\"mean absolute percentage error is \",mat)\n"
   ]
  },
  {
   "cell_type": "markdown",
   "metadata": {
    "id": "73-1plFfehAf"
   },
   "source": [
    "##stochastic gradient descent with regulariation"
   ]
  },
  {
   "cell_type": "code",
   "execution_count": 21,
   "metadata": {
    "id": "eqay9tOueY6q"
   },
   "outputs": [],
   "source": [
    "XTrain = []\n",
    "for i in range(383):\n",
    "\tXTrain.append([1, FloorArea_Scaled[i], NoOfBedrooms[i], NoOfBathrooms[i]])\n",
    " \n",
    "XTest = []\n",
    "n = len(FloorAreaTest)\n",
    "for i in range(383,383+n):\n",
    "  XTest.append([1,FloorArea_Scaled[i],NoOfBedrooms[i],NoOfBathrooms[i]])"
   ]
  },
  {
   "cell_type": "code",
   "execution_count": 23,
   "metadata": {
    "colab": {
     "base_uri": "https://localhost:8080/"
    },
    "id": "u4y3wNSkekOf",
    "outputId": "065aa54c-3ba0-43a8-a85a-6cb361ad7b5f"
   },
   "outputs": [
    {
     "name": "stdout",
     "output_type": "stream",
     "text": [
      "initial coefficients :  [0 0 0 0]\n",
      "coefficients are : [ 8099.53322869  6266.87283801 13353.66990034 17698.12315756]\n",
      "mean absolute percentage error 18.655780791680915\n"
     ]
    }
   ],
   "source": [
    "lr = 0.0005\n",
    "lamda = -10\n",
    "x = np.array(XTrain)\n",
    "y = np.array(PriceTrain)\n",
    "w = np.array([0,0,0,0])\n",
    "y = y.reshape(len(y),1)\n",
    "\n",
    "print(\"initial coefficients : \",w)\n",
    "\n",
    "def product(w,x):\n",
    "    ans=0\n",
    "    for i in range(x.shape[0]):\n",
    "        ans= ans +w[i]*x[i]\n",
    "    return ans\n",
    "\n",
    "\n",
    "for itr in range(20):\n",
    "  for i in range(x.shape[0]):\n",
    "    grad = (product(w,x[i]) - y[i][0])*x[i]\n",
    "    temp = 1-((lamda*lr)/x.shape[0])\n",
    "    w = temp*w - lr*grad\n",
    "\n",
    "print(\"coefficients are :\",w)\n",
    "\n",
    "\n",
    "# mean absolute percentage error\n",
    "w = w.reshape((4,1))\n",
    "x_test = np.array(XTest)\n",
    "y_test = np.array(PriceTest)\n",
    "y_pred = np.dot(x_test,w)\n",
    "\n",
    "n = x_test.shape[0]\n",
    "mat = 0\n",
    "\n",
    "for i in range(n):\n",
    "  mat = mat + abs(y_pred[i][0]-y_test[i])/y_test[i]\n",
    "mat = mat*100/n\n",
    "print(\"mean absolute percentage error\",mat)"
   ]
  },
  {
   "cell_type": "markdown",
   "metadata": {
    "id": "1jfe8TBfeySJ"
   },
   "source": [
    "##Mini Batch Gradient Descent with Regulatization "
   ]
  },
  {
   "cell_type": "code",
   "execution_count": 24,
   "metadata": {
    "id": "iSH5-V9senND"
   },
   "outputs": [],
   "source": [
    "XTrain = []\n",
    "for i in range(383):\n",
    "\tXTrain.append([1, FloorArea_Scaled[i], NoOfBedrooms[i], NoOfBathrooms[i]])\n",
    " \n",
    "XTest = []\n",
    "n = len(FloorAreaTest)\n",
    "for i in range(383,383+n):\n",
    "  XTest.append([1,FloorArea_Scaled[i],NoOfBedrooms[i],NoOfBathrooms[i]])"
   ]
  },
  {
   "cell_type": "code",
   "execution_count": 25,
   "metadata": {
    "colab": {
     "base_uri": "https://localhost:8080/"
    },
    "id": "u43z2IPUe5uy",
    "outputId": "3973d20d-6000-422e-fa62-224a226fcc36"
   },
   "outputs": [
    {
     "name": "stdout",
     "output_type": "stream",
     "text": [
      "coefficients are  [ 9280.88414526 10001.13873579 10055.23366084 25309.01693085]\n",
      "mean absolute percentage error :  17.971898815464968\n"
     ]
    }
   ],
   "source": [
    "bs = 20 \n",
    "lr = 0.002\n",
    "lamda = -20\n",
    "\n",
    "x = np.array(XTrain)\n",
    "y = np.array(PriceTrain)\n",
    "w = np.array([0,0,0,0])\n",
    "y = y.reshape(len(y),1)\n",
    "\n",
    "def product(w,x):\n",
    "    ans=0\n",
    "    for i in range(x.shape[0]):\n",
    "        ans= ans +w[i]*x[i]\n",
    "    return ans\n",
    "\n",
    "def gradient(x,w,y,st,bs):\n",
    "    ans=np.zeros(w.shape[0])\n",
    "    for i in range(st,st+bs):\n",
    "        if(i>=x.shape[0]):\n",
    "          break\n",
    "        ans=(ans+(product(w,x[i])-y[i][0])*x[i])\n",
    "    return ans\n",
    "\n",
    "for itr in range(50):\n",
    "  for i in range(bs):\n",
    "    temp = 1-((lamda*lr)/bs)\n",
    "    w = temp*w - (lr*gradient(x,w,y,bs*i,bs))/bs\n",
    "print(\"coefficients are \",w)\n",
    "\n",
    "\n",
    "\n",
    "# mean absolute percentage error\n",
    "w = w.reshape((4,1))\n",
    "x_test = np.array(XTest)\n",
    "y_test = np.array(PriceTest)\n",
    "y_pred = np.dot(x_test,w)\n",
    "\n",
    "n = x_test.shape[0]\n",
    "mat = 0\n",
    "\n",
    "for i in range(n):\n",
    "  mat = mat + abs(y_pred[i][0]-y_test[i])/y_test[i]\n",
    "mat = mat*100/n\n",
    "print(\"mean absolute percentage error : \",mat)"
   ]
  },
  {
   "cell_type": "code",
   "execution_count": null,
   "metadata": {
    "id": "u3730TG5e82c"
   },
   "outputs": [],
   "source": []
  }
 ],
 "metadata": {
  "colab": {
   "name": "6d.ipynb",
   "provenance": []
  },
  "kernelspec": {
   "display_name": "Python 3 (ipykernel)",
   "language": "python",
   "name": "python3"
  },
  "language_info": {
   "codemirror_mode": {
    "name": "ipython",
    "version": 3
   },
   "file_extension": ".py",
   "mimetype": "text/x-python",
   "name": "python",
   "nbconvert_exporter": "python",
   "pygments_lexer": "ipython3",
   "version": "3.8.10"
  }
 },
 "nbformat": 4,
 "nbformat_minor": 1
}
