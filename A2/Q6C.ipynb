{
 "cells": [
  {
   "cell_type": "code",
   "execution_count": 345,
   "id": "e15ab898",
   "metadata": {},
   "outputs": [],
   "source": [
    "import numpy as np\n",
    "import pandas as pd\n",
    "import random\n",
    "import math\n",
    "\n",
    "df = pd.read_csv(\"HousingPrice.csv\")\n",
    "\n",
    "Price = df['price']\n",
    "FloorArea = df['lotsize']\n",
    "NoOfBedrooms = df['bedrooms']\n",
    "NoOfBathrooms = df['bathrms']"
   ]
  },
  {
   "cell_type": "markdown",
   "id": "1ec67922",
   "metadata": {},
   "source": [
    "## Feature scaling on FlooeArea"
   ]
  },
  {
   "cell_type": "code",
   "execution_count": 346,
   "id": "7af67e0f",
   "metadata": {},
   "outputs": [
    {
     "data": {
      "text/plain": [
       "(0      5850\n",
       " 1      4000\n",
       " 2      3060\n",
       " 3      6650\n",
       " 4      6360\n",
       "        ... \n",
       " 541    4800\n",
       " 542    6000\n",
       " 543    6000\n",
       " 544    6000\n",
       " 545    6000\n",
       " Name: lotsize, Length: 546, dtype: int64,\n",
       " 0      0.048092\n",
       " 1     -0.079056\n",
       " 2     -0.143661\n",
       " 3      0.103075\n",
       " 4      0.083143\n",
       "          ...   \n",
       " 541   -0.024073\n",
       " 542    0.058401\n",
       " 543    0.058401\n",
       " 544    0.058401\n",
       " 545    0.058401\n",
       " Name: lotsize, Length: 546, dtype: float64)"
      ]
     },
     "execution_count": 346,
     "metadata": {},
     "output_type": "execute_result"
    }
   ],
   "source": [
    "FloorAreaMean = np.mean(FloorArea)\n",
    "FloorAreaMin = min(FloorArea)\n",
    "FloorAreaMax = max(FloorArea)\n",
    "FloorAreaScaled = (FloorArea - FloorAreaMean)/(FloorAreaMax - FloorAreaMin)\n",
    "FloorArea, FloorAreaScaled"
   ]
  },
  {
   "cell_type": "markdown",
   "id": "b3c3c386",
   "metadata": {},
   "source": [
    "## Creating useful variables"
   ]
  },
  {
   "cell_type": "code",
   "execution_count": 347,
   "id": "07831585",
   "metadata": {},
   "outputs": [
    {
     "data": {
      "text/plain": [
       "(546, 13)"
      ]
     },
     "execution_count": 347,
     "metadata": {},
     "output_type": "execute_result"
    }
   ],
   "source": [
    "n, m = df.shape\n",
    "n, m"
   ]
  },
  {
   "cell_type": "code",
   "execution_count": 348,
   "id": "8eb399b4",
   "metadata": {},
   "outputs": [
    {
     "data": {
      "text/plain": [
       "(382, 164)"
      ]
     },
     "execution_count": 348,
     "metadata": {},
     "output_type": "execute_result"
    }
   ],
   "source": [
    "n_train = math.floor(n * 0.70)\n",
    "n_test = n - n_train\n",
    "n_train, n_test"
   ]
  },
  {
   "cell_type": "code",
   "execution_count": 349,
   "id": "0d4dadbb",
   "metadata": {},
   "outputs": [
    {
     "data": {
      "text/plain": [
       "546"
      ]
     },
     "execution_count": 349,
     "metadata": {},
     "output_type": "execute_result"
    }
   ],
   "source": [
    "col = [1] * n\n",
    "data_scaling = list(zip(col,FloorAreaScaled,NoOfBedrooms,NoOfBathrooms))\n",
    "len(data_scaling)"
   ]
  },
  {
   "cell_type": "code",
   "execution_count": 350,
   "id": "6273437a",
   "metadata": {},
   "outputs": [],
   "source": [
    "# X_train, Y_train, X_test, Y_test with scaling\n",
    "X_train = np.array(data_scaling[:n_train])\n",
    "Y_train = np.array(Price[:n_train])\n",
    "\n",
    "X_test = np.array(data_scaling[n_train+1:])\n",
    "Y_test = np.array(Price[n_train+1:])"
   ]
  },
  {
   "cell_type": "code",
   "execution_count": 351,
   "id": "0065ca6f",
   "metadata": {},
   "outputs": [
    {
     "data": {
      "text/plain": [
       "(382, 4)"
      ]
     },
     "execution_count": 351,
     "metadata": {},
     "output_type": "execute_result"
    }
   ],
   "source": [
    "X_train.shape"
   ]
  },
  {
   "cell_type": "markdown",
   "id": "8c45da72",
   "metadata": {},
   "source": [
    "## Function to find slope"
   ]
  },
  {
   "cell_type": "code",
   "execution_count": 352,
   "id": "d574ee43",
   "metadata": {},
   "outputs": [],
   "source": [
    "def Slope(theta, X_train, Y_train):\n",
    "    slope = np.zeros(theta.shape)\n",
    "    for i in range(len(X_train)):\n",
    "        itr = 0\n",
    "        for j in range(theta.shape[1]):\n",
    "            itr = itr + theta[0][j] * X_train[i][j]\n",
    "        slope += (itr - Y_train[i]) * X_train[i]\n",
    "    return slope"
   ]
  },
  {
   "cell_type": "markdown",
   "id": "4a44b844",
   "metadata": {},
   "source": [
    "# Using batch gradient without regularisation"
   ]
  },
  {
   "cell_type": "code",
   "execution_count": 353,
   "id": "e954357d",
   "metadata": {},
   "outputs": [
    {
     "data": {
      "text/plain": [
       "array([[0., 0., 0., 0.]])"
      ]
     },
     "execution_count": 353,
     "metadata": {},
     "output_type": "execute_result"
    }
   ],
   "source": [
    "lr = 0.001\n",
    "theta = np.zeros((1,4))\n",
    "theta"
   ]
  },
  {
   "cell_type": "code",
   "execution_count": 354,
   "id": "1cfe8bcc",
   "metadata": {},
   "outputs": [
    {
     "data": {
      "text/plain": [
       "array([[ 7645.16561033,  7527.93232483, 10966.99872425, 18651.19085438]])"
      ]
     },
     "execution_count": 354,
     "metadata": {},
     "output_type": "execute_result"
    }
   ],
   "source": [
    "for i in range(5000):\n",
    "    theta = theta - (lr/n_train)*Slope(theta,X_train,Y_train)\n",
    "theta"
   ]
  },
  {
   "cell_type": "code",
   "execution_count": 355,
   "id": "b83cf702",
   "metadata": {},
   "outputs": [
    {
     "data": {
      "text/plain": [
       "(4, 1)"
      ]
     },
     "execution_count": 355,
     "metadata": {},
     "output_type": "execute_result"
    }
   ],
   "source": [
    "theta = theta.reshape((4,1))\n",
    "theta.shape"
   ]
  },
  {
   "cell_type": "code",
   "execution_count": 356,
   "id": "404bbcac",
   "metadata": {},
   "outputs": [
    {
     "name": "stdout",
     "output_type": "stream",
     "text": [
      "MEAN ABSOLUTE PERCENTAGE ERROR: \n"
     ]
    },
    {
     "data": {
      "text/plain": [
       "20.342942821184607"
      ]
     },
     "execution_count": 356,
     "metadata": {},
     "output_type": "execute_result"
    }
   ],
   "source": [
    "Y_pred = np.dot(X_test, theta)\n",
    "error = 0\n",
    "for i in range(n_test-1):\n",
    "    error += abs((Y_test[i] - Y_pred[i][0])/Y_test[i])\n",
    "error /= n_test\n",
    "print(\"MEAN ABSOLUTE PERCENTAGE ERROR: \")\n",
    "float(error*100)"
   ]
  },
  {
   "cell_type": "markdown",
   "id": "d83f7b0d",
   "metadata": {},
   "source": [
    "# Using batch gradient with regularisation"
   ]
  },
  {
   "cell_type": "code",
   "execution_count": 357,
   "id": "df602a6a",
   "metadata": {},
   "outputs": [
    {
     "data": {
      "text/plain": [
       "array([[0., 0., 0., 0.]])"
      ]
     },
     "execution_count": 357,
     "metadata": {},
     "output_type": "execute_result"
    }
   ],
   "source": [
    "lr = 0.001\n",
    "Lambda = -120\n",
    "theta = np.zeros((1,4))\n",
    "theta"
   ]
  },
  {
   "cell_type": "code",
   "execution_count": 358,
   "id": "780a0557",
   "metadata": {},
   "outputs": [
    {
     "data": {
      "text/plain": [
       "array([[10854.7790114 , 18034.6716255 ,  5068.24913908, 31438.87102068]])"
      ]
     },
     "execution_count": 358,
     "metadata": {},
     "output_type": "execute_result"
    }
   ],
   "source": [
    "for epochs in range(5000):\n",
    "    cof = 1 - ((lr*Lambda)/n_train)\n",
    "    theta = cof*theta - (lr/n_train)*Slope(theta, X_train,Y_train)\n",
    "theta"
   ]
  },
  {
   "cell_type": "code",
   "execution_count": 359,
   "id": "c0f19f0b",
   "metadata": {},
   "outputs": [
    {
     "data": {
      "text/plain": [
       "(4, 1)"
      ]
     },
     "execution_count": 359,
     "metadata": {},
     "output_type": "execute_result"
    }
   ],
   "source": [
    "theta = theta.reshape((4,1))\n",
    "theta.shape"
   ]
  },
  {
   "cell_type": "code",
   "execution_count": 360,
   "id": "0da62e21",
   "metadata": {},
   "outputs": [
    {
     "data": {
      "text/plain": [
       "array([[10854.7790114 ],\n",
       "       [18034.6716255 ],\n",
       "       [ 5068.24913908],\n",
       "       [31438.87102068]])"
      ]
     },
     "execution_count": 360,
     "metadata": {},
     "output_type": "execute_result"
    }
   ],
   "source": [
    "theta"
   ]
  },
  {
   "cell_type": "code",
   "execution_count": 361,
   "id": "9a7f2389",
   "metadata": {},
   "outputs": [
    {
     "name": "stdout",
     "output_type": "stream",
     "text": [
      "MEAN ABSOLUTE PERCENTAGE ERROR: \n"
     ]
    },
    {
     "data": {
      "text/plain": [
       "18.92124816522627"
      ]
     },
     "execution_count": 361,
     "metadata": {},
     "output_type": "execute_result"
    }
   ],
   "source": [
    "Y_pred = np.dot(X_test, theta)\n",
    "error = 0\n",
    "for i in range(n_test-1):\n",
    "    error += abs((Y_test[i] - Y_pred[i])/Y_test[i])\n",
    "error = error/n_test\n",
    "\n",
    "print(\"MEAN ABSOLUTE PERCENTAGE ERROR: \")\n",
    "float(error*100)"
   ]
  },
  {
   "cell_type": "markdown",
   "id": "0cc16b07",
   "metadata": {},
   "source": [
    "# Using Stochastic gradient without regularisation."
   ]
  },
  {
   "cell_type": "code",
   "execution_count": 362,
   "id": "33e038ca",
   "metadata": {},
   "outputs": [],
   "source": [
    "# FUNCTION TO FIND SLOPE FOR STOCHASTIC DESCENT\n",
    "def SlopeStoch(theta, X_train, Y, ind):\n",
    "\titr = 0\n",
    "\tfor j in range(theta.shape[1]):\n",
    "\t\titr = itr + theta[0][j]*X_train[j]\n",
    "\treturn (itr - Y) * X_train[ind]\n"
   ]
  },
  {
   "cell_type": "code",
   "execution_count": 371,
   "id": "aa0505c1",
   "metadata": {},
   "outputs": [
    {
     "data": {
      "text/plain": [
       "array([[0., 0., 0., 0.]])"
      ]
     },
     "execution_count": 371,
     "metadata": {},
     "output_type": "execute_result"
    }
   ],
   "source": [
    "lr = 0.00001\n",
    "theta = np.zeros((1,4))\n",
    "theta"
   ]
  },
  {
   "cell_type": "code",
   "execution_count": 372,
   "id": "86ecb0c8",
   "metadata": {},
   "outputs": [
    {
     "data": {
      "text/plain": [
       "array([[2222.39526393,   16.94489919, 5546.26936474, 3125.24588452]])"
      ]
     },
     "execution_count": 372,
     "metadata": {},
     "output_type": "execute_result"
    }
   ],
   "source": [
    "for iter in range(10):\n",
    "    for i in range(X_train.shape[0]):\n",
    "        theta = theta - (lr)*SlopeStoch(theta, X_train, Y_train[i], i)\n",
    "theta"
   ]
  },
  {
   "cell_type": "code",
   "execution_count": 373,
   "id": "9a42b75b",
   "metadata": {},
   "outputs": [
    {
     "data": {
      "text/plain": [
       "(4, 1)"
      ]
     },
     "execution_count": 373,
     "metadata": {},
     "output_type": "execute_result"
    }
   ],
   "source": [
    "theta = theta.reshape((4,1))\n",
    "theta.shape"
   ]
  },
  {
   "cell_type": "code",
   "execution_count": 374,
   "id": "7f5a49d9",
   "metadata": {},
   "outputs": [
    {
     "name": "stdout",
     "output_type": "stream",
     "text": [
      "MEAN ABSOLUTE PERCENTAGE ERROR: \n"
     ]
    },
    {
     "data": {
      "text/plain": [
       "68.20015056290227"
      ]
     },
     "execution_count": 374,
     "metadata": {},
     "output_type": "execute_result"
    }
   ],
   "source": [
    "Y_pred = np.dot(X_test, theta)\n",
    "error = 0\n",
    "for i in range(n_test-1):\n",
    "    error += abs((Y_test[i] - Y_pred[i])) / Y_test[i]\n",
    "error = error/n_test\n",
    "\n",
    "print(\"MEAN ABSOLUTE PERCENTAGE ERROR: \")\n",
    "float(error*100)"
   ]
  },
  {
   "cell_type": "markdown",
   "id": "b6f5a8a0",
   "metadata": {},
   "source": [
    "# Using Stochastic gradient with Regularization"
   ]
  },
  {
   "cell_type": "code",
   "execution_count": 375,
   "id": "10b3e103",
   "metadata": {},
   "outputs": [
    {
     "data": {
      "text/plain": [
       "array([[0., 0., 0., 0.]])"
      ]
     },
     "execution_count": 375,
     "metadata": {},
     "output_type": "execute_result"
    }
   ],
   "source": [
    "lr = 0.00001\n",
    "Lambda = 30\n",
    "theta = np.zeros((1,4))\n",
    "theta"
   ]
  },
  {
   "cell_type": "code",
   "execution_count": 376,
   "id": "4611507d",
   "metadata": {},
   "outputs": [
    {
     "data": {
      "text/plain": [
       "array([[2219.19847494,   16.93408054, 5538.96715982, 3120.76286454]])"
      ]
     },
     "execution_count": 376,
     "metadata": {},
     "output_type": "execute_result"
    }
   ],
   "source": [
    "for itr in range(10):\n",
    "  for i in range(X_train.shape[0]):\n",
    "    cof = 1-((Lambda*lr)/n_train)\n",
    "    theta = cof*theta - lr*(SlopeStoch(theta, X_train, Y_train[i], i))\n",
    "theta"
   ]
  },
  {
   "cell_type": "code",
   "execution_count": 377,
   "id": "561616ce",
   "metadata": {},
   "outputs": [
    {
     "data": {
      "text/plain": [
       "(4, 1)"
      ]
     },
     "execution_count": 377,
     "metadata": {},
     "output_type": "execute_result"
    }
   ],
   "source": [
    "theta = theta.reshape((4,1))\n",
    "theta.shape"
   ]
  },
  {
   "cell_type": "code",
   "execution_count": 378,
   "id": "6946ae25",
   "metadata": {},
   "outputs": [
    {
     "name": "stdout",
     "output_type": "stream",
     "text": [
      "MEAN ABSOLUTE PERCENTAGE ERROR: \n"
     ]
    },
    {
     "data": {
      "text/plain": [
       "68.24222400621994"
      ]
     },
     "execution_count": 378,
     "metadata": {},
     "output_type": "execute_result"
    }
   ],
   "source": [
    "Y_pred = np.dot(X_test, theta)\n",
    "error = 0\n",
    "for i in range(n_test-1):\n",
    "    error += abs((Y_test[i] - Y_pred[i])) / Y_test[i]\n",
    "error = error/n_test\n",
    "\n",
    "print(\"MEAN ABSOLUTE PERCENTAGE ERROR: \")\n",
    "float(error*100)"
   ]
  },
  {
   "cell_type": "markdown",
   "id": "8211466c",
   "metadata": {},
   "source": [
    "# Using Minibatch gradient without regularisation"
   ]
  },
  {
   "cell_type": "code",
   "execution_count": 379,
   "id": "912309b5",
   "metadata": {},
   "outputs": [],
   "source": [
    "# USEFUL FUNCTIONS FOR MINI BATCH GRADIENT \n",
    "def product(w,x):\n",
    "    ans=0\n",
    "    for i in range(x.shape[0]):\n",
    "        ans= ans + w[0][i]*x[i]\n",
    "    return ans\n",
    "\n",
    "def gradient(x,w,y,st,bs):\n",
    "    ans=np.zeros(w.shape)\n",
    "    for i in range(st,st+bs):\n",
    "        if(i>=x.shape[0]):\n",
    "          break\n",
    "        ans=(ans+(product(w,x[i])-y[i])*x[i])\n",
    "    return ans\n"
   ]
  },
  {
   "cell_type": "code",
   "execution_count": 380,
   "id": "ef5aa734",
   "metadata": {},
   "outputs": [
    {
     "data": {
      "text/plain": [
       "array([[0., 0., 0., 0.]])"
      ]
     },
     "execution_count": 380,
     "metadata": {},
     "output_type": "execute_result"
    }
   ],
   "source": [
    "BatchSize = 20;\n",
    "lr = 0.0002\n",
    "theta = np.zeros((1,4))\n",
    "theta"
   ]
  },
  {
   "cell_type": "code",
   "execution_count": 381,
   "id": "707a1ef3",
   "metadata": {},
   "outputs": [
    {
     "data": {
      "text/plain": [
       "array([[ 4891.71936057,   221.38545923, 14598.66776056,  7156.34800691]])"
      ]
     },
     "execution_count": 381,
     "metadata": {},
     "output_type": "execute_result"
    }
   ],
   "source": [
    "for itr in range(50):\n",
    "  for i in range(BatchSize):\n",
    "    theta = theta - (lr*gradient(X_train,theta,Y_train,BatchSize*i,BatchSize))/BatchSize\n",
    "theta"
   ]
  },
  {
   "cell_type": "code",
   "execution_count": 382,
   "id": "d595bd91",
   "metadata": {},
   "outputs": [
    {
     "data": {
      "text/plain": [
       "(4, 1)"
      ]
     },
     "execution_count": 382,
     "metadata": {},
     "output_type": "execute_result"
    }
   ],
   "source": [
    "theta = theta.reshape((4,1))\n",
    "theta.shape"
   ]
  },
  {
   "cell_type": "code",
   "execution_count": 383,
   "id": "6b4c78d9",
   "metadata": {},
   "outputs": [
    {
     "name": "stdout",
     "output_type": "stream",
     "text": [
      "MEAN ABSOLUTE PERCENTAGE ERROR: \n"
     ]
    },
    {
     "data": {
      "text/plain": [
       "25.794843431025104"
      ]
     },
     "execution_count": 383,
     "metadata": {},
     "output_type": "execute_result"
    }
   ],
   "source": [
    "Y_pred = np.dot(X_test, theta)\n",
    "error = 0\n",
    "for i in range(n_test-1):\n",
    "    error += abs((Y_test[i] - Y_pred[i])/Y_test[i])\n",
    "error = error/n_test\n",
    "\n",
    "print(\"MEAN ABSOLUTE PERCENTAGE ERROR: \")\n",
    "float(error*100)"
   ]
  },
  {
   "cell_type": "markdown",
   "id": "2d21d923",
   "metadata": {},
   "source": [
    "# Using Minibatch gradient with regularisation for batch size = 20"
   ]
  },
  {
   "cell_type": "code",
   "execution_count": 385,
   "id": "6ca1bf87",
   "metadata": {},
   "outputs": [
    {
     "data": {
      "text/plain": [
       "array([[0., 0., 0., 0.]])"
      ]
     },
     "execution_count": 385,
     "metadata": {},
     "output_type": "execute_result"
    }
   ],
   "source": [
    "BatchSize = 20;\n",
    "lr = 0.0002\n",
    "Lambda = -20\n",
    "theta = np.zeros((1,4))\n",
    "theta"
   ]
  },
  {
   "cell_type": "code",
   "execution_count": 386,
   "id": "fa64883e",
   "metadata": {},
   "outputs": [
    {
     "data": {
      "text/plain": [
       "array([[ 5231.20289362,   247.60936576, 15585.22770405,  7672.11402056]])"
      ]
     },
     "execution_count": 386,
     "metadata": {},
     "output_type": "execute_result"
    }
   ],
   "source": [
    "for itr in range(50):\n",
    "  for i in range(BatchSize):\n",
    "    temp = 1-((Lambda*lr)/BatchSize)\n",
    "    theta = (temp * theta) - (lr * gradient(X_train, theta, Y_train, BatchSize*i, BatchSize))/ BatchSize\n",
    "\n",
    "theta"
   ]
  },
  {
   "cell_type": "code",
   "execution_count": 387,
   "id": "555b6e7f",
   "metadata": {},
   "outputs": [
    {
     "data": {
      "text/plain": [
       "(4, 1)"
      ]
     },
     "execution_count": 387,
     "metadata": {},
     "output_type": "execute_result"
    }
   ],
   "source": [
    "theta = theta.reshape((4,1))\n",
    "theta.shape"
   ]
  },
  {
   "cell_type": "code",
   "execution_count": 388,
   "id": "eb5e309b",
   "metadata": {},
   "outputs": [
    {
     "name": "stdout",
     "output_type": "stream",
     "text": [
      "MEAN ABSOLUTE PERCENTAGE ERROR: \n"
     ]
    },
    {
     "data": {
      "text/plain": [
       "23.185650124145248"
      ]
     },
     "execution_count": 388,
     "metadata": {},
     "output_type": "execute_result"
    }
   ],
   "source": [
    "Y_pred = np.dot(X_test, theta)\n",
    "error = 0\n",
    "for i in range(n_test-1):\n",
    "    error += abs((Y_test[i] - Y_pred[i])/Y_test[i])\n",
    "error = error/n_test\n",
    "\n",
    "print(\"MEAN ABSOLUTE PERCENTAGE ERROR: \")\n",
    "float(error*100)"
   ]
  },
  {
   "cell_type": "code",
   "execution_count": null,
   "id": "069f8771",
   "metadata": {},
   "outputs": [],
   "source": []
  },
  {
   "cell_type": "code",
   "execution_count": null,
   "id": "de96cf35",
   "metadata": {},
   "outputs": [],
   "source": []
  }
 ],
 "metadata": {
  "kernelspec": {
   "display_name": "Python 3 (ipykernel)",
   "language": "python",
   "name": "python3"
  },
  "language_info": {
   "codemirror_mode": {
    "name": "ipython",
    "version": 3
   },
   "file_extension": ".py",
   "mimetype": "text/x-python",
   "name": "python",
   "nbconvert_exporter": "python",
   "pygments_lexer": "ipython3",
   "version": "3.8.10"
  }
 },
 "nbformat": 4,
 "nbformat_minor": 5
}
