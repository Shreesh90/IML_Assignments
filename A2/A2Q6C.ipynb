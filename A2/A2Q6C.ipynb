{
  "nbformat": 4,
  "nbformat_minor": 5,
  "metadata": {
    "kernelspec": {
      "display_name": "Python 3 (ipykernel)",
      "language": "python",
      "name": "python3"
    },
    "language_info": {
      "codemirror_mode": {
        "name": "ipython",
        "version": 3
      },
      "file_extension": ".py",
      "mimetype": "text/x-python",
      "name": "python",
      "nbconvert_exporter": "python",
      "pygments_lexer": "ipython3",
      "version": "3.8.10"
    },
    "colab": {
      "name": "A2Q6C.ipynb",
      "provenance": [],
      "toc_visible": true
    },
    "accelerator": "GPU"
  },
  "cells": [
    {
      "cell_type": "markdown",
      "metadata": {
        "id": "yxUBcoidKifV"
      },
      "source": [
        "# Importing required Libraries\n"
      ],
      "id": "yxUBcoidKifV"
    },
    {
      "cell_type": "code",
      "metadata": {
        "id": "e15ab898"
      },
      "source": [
        "import numpy as np\n",
        "import pandas as pd\n",
        "import random\n",
        "import math\n",
        "\n",
        "url = \"https://raw.githubusercontent.com/Shreesh90/IML_Assignments/master/A2/HousingPrice.csv\"\n",
        "\n",
        "df = pd.read_csv(url)\n",
        "\n",
        "Price = df['price']\n",
        "FloorArea = df['lotsize']\n",
        "NoOfBedrooms = df['bedrooms']\n",
        "NoOfBathrooms = df['bathrms']"
      ],
      "id": "e15ab898",
      "execution_count": null,
      "outputs": []
    },
    {
      "cell_type": "markdown",
      "metadata": {
        "id": "1ec67922"
      },
      "source": [
        "## Feature scaling on FloorArea"
      ],
      "id": "1ec67922"
    },
    {
      "cell_type": "code",
      "metadata": {
        "colab": {
          "base_uri": "https://localhost:8080/"
        },
        "id": "7af67e0f",
        "outputId": "318e5025-a0c7-4dcc-a751-4b77e406de28"
      },
      "source": [
        "# FLOOR AREA HAS HIGH VARIANCE SO IT IS IMPORTANT TO SCALE THIS FEATURE\n",
        "FloorAreaMean = np.mean(FloorArea)\n",
        "FloorAreaMin = min(FloorArea)\n",
        "FloorAreaMax = max(FloorArea)\n",
        "FloorAreaScaled = (FloorArea - FloorAreaMean)/(FloorAreaMax - FloorAreaMin)\n",
        "FloorArea, FloorAreaScaled"
      ],
      "id": "7af67e0f",
      "execution_count": null,
      "outputs": [
        {
          "output_type": "execute_result",
          "data": {
            "text/plain": [
              "(0      5850\n",
              " 1      4000\n",
              " 2      3060\n",
              " 3      6650\n",
              " 4      6360\n",
              "        ... \n",
              " 541    4800\n",
              " 542    6000\n",
              " 543    6000\n",
              " 544    6000\n",
              " 545    6000\n",
              " Name: lotsize, Length: 546, dtype: int64, 0      0.048092\n",
              " 1     -0.079056\n",
              " 2     -0.143661\n",
              " 3      0.103075\n",
              " 4      0.083143\n",
              "          ...   \n",
              " 541   -0.024073\n",
              " 542    0.058401\n",
              " 543    0.058401\n",
              " 544    0.058401\n",
              " 545    0.058401\n",
              " Name: lotsize, Length: 546, dtype: float64)"
            ]
          },
          "metadata": {},
          "execution_count": 3
        }
      ]
    },
    {
      "cell_type": "markdown",
      "metadata": {
        "id": "b3c3c386"
      },
      "source": [
        "## Creating useful variables"
      ],
      "id": "b3c3c386"
    },
    {
      "cell_type": "code",
      "metadata": {
        "colab": {
          "base_uri": "https://localhost:8080/"
        },
        "id": "07831585",
        "outputId": "fa9dcc04-6f3f-46bc-e7f5-601c38237b88"
      },
      "source": [
        "n, m = df.shape\n",
        "n, m"
      ],
      "id": "07831585",
      "execution_count": null,
      "outputs": [
        {
          "output_type": "execute_result",
          "data": {
            "text/plain": [
              "(546, 13)"
            ]
          },
          "metadata": {},
          "execution_count": 4
        }
      ]
    },
    {
      "cell_type": "code",
      "metadata": {
        "colab": {
          "base_uri": "https://localhost:8080/"
        },
        "id": "8eb399b4",
        "outputId": "4c569794-71eb-43f3-919c-7a8a680dabf4"
      },
      "source": [
        "n_train = math.floor(n * 0.70)\n",
        "n_test = n - n_train\n",
        "n_train, n_test"
      ],
      "id": "8eb399b4",
      "execution_count": null,
      "outputs": [
        {
          "output_type": "execute_result",
          "data": {
            "text/plain": [
              "(382, 164)"
            ]
          },
          "metadata": {},
          "execution_count": 5
        }
      ]
    },
    {
      "cell_type": "code",
      "metadata": {
        "colab": {
          "base_uri": "https://localhost:8080/"
        },
        "id": "0d4dadbb",
        "outputId": "92330086-adc3-47cc-a21f-e306a3ebf9ca"
      },
      "source": [
        "col = [1] * n\n",
        "data_scaling = list(zip(col,FloorAreaScaled,NoOfBedrooms,NoOfBathrooms))\n",
        "len(data_scaling)"
      ],
      "id": "0d4dadbb",
      "execution_count": null,
      "outputs": [
        {
          "output_type": "execute_result",
          "data": {
            "text/plain": [
              "546"
            ]
          },
          "metadata": {},
          "execution_count": 6
        }
      ]
    },
    {
      "cell_type": "code",
      "metadata": {
        "id": "6273437a"
      },
      "source": [
        "# X_train, Y_train, X_test, Y_test with scaling\n",
        "X_train = np.array(data_scaling[:n_train])\n",
        "Y_train = np.array(Price[:n_train])\n",
        "\n",
        "X_test = np.array(data_scaling[n_train+1:])\n",
        "Y_test = np.array(Price[n_train+1:])"
      ],
      "id": "6273437a",
      "execution_count": null,
      "outputs": []
    },
    {
      "cell_type": "code",
      "metadata": {
        "colab": {
          "base_uri": "https://localhost:8080/"
        },
        "id": "0065ca6f",
        "outputId": "9f0114b3-d5ff-4972-c310-22567255e392"
      },
      "source": [
        "X_train.shape"
      ],
      "id": "0065ca6f",
      "execution_count": null,
      "outputs": [
        {
          "output_type": "execute_result",
          "data": {
            "text/plain": [
              "(382, 4)"
            ]
          },
          "metadata": {},
          "execution_count": 8
        }
      ]
    },
    {
      "cell_type": "markdown",
      "metadata": {
        "id": "8c45da72"
      },
      "source": [
        "## Function to find slope"
      ],
      "id": "8c45da72"
    },
    {
      "cell_type": "code",
      "metadata": {
        "id": "d574ee43"
      },
      "source": [
        "# THIS FUNCTION FINDS SLOPE i.e. dJ/dw TO BE PUT IN EQUATION\n",
        "def Slope(theta, X_train, Y_train):\n",
        "    slope = np.zeros(theta.shape)\n",
        "    for i in range(len(X_train)):\n",
        "        itr = 0\n",
        "        for j in range(theta.shape[1]):\n",
        "            itr = itr + theta[0][j] * X_train[i][j]\n",
        "        slope += (itr - Y_train[i]) * X_train[i]\n",
        "    return slope"
      ],
      "id": "d574ee43",
      "execution_count": null,
      "outputs": []
    },
    {
      "cell_type": "markdown",
      "metadata": {
        "id": "4a44b844"
      },
      "source": [
        "\n",
        "# Using batch gradient without regularisation"
      ],
      "id": "4a44b844"
    },
    {
      "cell_type": "code",
      "metadata": {
        "colab": {
          "base_uri": "https://localhost:8080/"
        },
        "id": "e954357d",
        "outputId": "4df1fd5d-c6a7-4c27-9765-7ddff362d48e"
      },
      "source": [
        "# LEARNING RATE\n",
        "lr = 0.001 \n",
        "\n",
        "# INITIAL WEIGHTS\n",
        "theta = np.zeros((1,4))\n",
        "theta"
      ],
      "id": "e954357d",
      "execution_count": null,
      "outputs": [
        {
          "output_type": "execute_result",
          "data": {
            "text/plain": [
              "array([[0., 0., 0., 0.]])"
            ]
          },
          "metadata": {},
          "execution_count": 10
        }
      ]
    },
    {
      "cell_type": "code",
      "metadata": {
        "colab": {
          "base_uri": "https://localhost:8080/"
        },
        "id": "1cfe8bcc",
        "outputId": "23cfc6de-b2d3-4004-9807-c7df80d5013b"
      },
      "source": [
        "# GRADIENT DESCENT ALGORITHM FOR BATCH GDA\n",
        "for i in range(5000):\n",
        "    theta = theta - (lr/n_train)*Slope(theta,X_train,Y_train)\n",
        "theta"
      ],
      "id": "1cfe8bcc",
      "execution_count": null,
      "outputs": [
        {
          "output_type": "execute_result",
          "data": {
            "text/plain": [
              "array([[ 7645.16561033,  7527.93232483, 10966.99872425, 18651.19085438]])"
            ]
          },
          "metadata": {},
          "execution_count": 11
        }
      ]
    },
    {
      "cell_type": "code",
      "metadata": {
        "colab": {
          "base_uri": "https://localhost:8080/"
        },
        "id": "b83cf702",
        "outputId": "b349f1a2-9dab-45a4-9dff-57e097f60f0b"
      },
      "source": [
        "theta = theta.reshape((4,1))\n",
        "theta.shape"
      ],
      "id": "b83cf702",
      "execution_count": null,
      "outputs": [
        {
          "output_type": "execute_result",
          "data": {
            "text/plain": [
              "(4, 1)"
            ]
          },
          "metadata": {},
          "execution_count": 12
        }
      ]
    },
    {
      "cell_type": "code",
      "metadata": {
        "colab": {
          "base_uri": "https://localhost:8080/"
        },
        "id": "404bbcac",
        "outputId": "513f9a41-4f7c-482b-8685-e9db85aad005"
      },
      "source": [
        "# PREDICTING THE VALUES ON X_test USING THE NEW WEIGHTS theta\n",
        "Y_pred = np.dot(X_test, theta)\n",
        "error = 0\n",
        "for i in range(n_test-1):\n",
        "    error += abs((Y_test[i] - Y_pred[i][0])/Y_test[i])\n",
        "error /= n_test\n",
        "print(\"MEAN ABSOLUTE PERCENTAGE ERROR: \")\n",
        "float(error*100)"
      ],
      "id": "404bbcac",
      "execution_count": null,
      "outputs": [
        {
          "output_type": "stream",
          "name": "stdout",
          "text": [
            "MEAN ABSOLUTE PERCENTAGE ERROR: \n"
          ]
        },
        {
          "output_type": "execute_result",
          "data": {
            "text/plain": [
              "20.342942821184607"
            ]
          },
          "metadata": {},
          "execution_count": 13
        }
      ]
    },
    {
      "cell_type": "markdown",
      "metadata": {
        "id": "d83f7b0d"
      },
      "source": [
        "# Using batch gradient with regularisation"
      ],
      "id": "d83f7b0d"
    },
    {
      "cell_type": "code",
      "metadata": {
        "colab": {
          "base_uri": "https://localhost:8080/"
        },
        "id": "df602a6a",
        "outputId": "a5d2189c-9650-4b3f-87cc-8bee9d364f18"
      },
      "source": [
        "lr = 0.001\n",
        "Lambda = -120\n",
        "theta = np.zeros((1,4))\n",
        "theta"
      ],
      "id": "df602a6a",
      "execution_count": null,
      "outputs": [
        {
          "output_type": "execute_result",
          "data": {
            "text/plain": [
              "array([[0., 0., 0., 0.]])"
            ]
          },
          "metadata": {},
          "execution_count": 14
        }
      ]
    },
    {
      "cell_type": "code",
      "metadata": {
        "colab": {
          "base_uri": "https://localhost:8080/"
        },
        "id": "780a0557",
        "outputId": "7102cc34-4014-4dac-d73c-84229f7ca904"
      },
      "source": [
        "# GRADIENT DESCENT ALGORITHM\n",
        "for epochs in range(5000):\n",
        "    cof = 1 - ((lr*Lambda)/n_train)\n",
        "    theta = cof*theta - (lr/n_train)*Slope(theta, X_train,Y_train)\n",
        "theta"
      ],
      "id": "780a0557",
      "execution_count": null,
      "outputs": [
        {
          "output_type": "execute_result",
          "data": {
            "text/plain": [
              "array([[ 24215.51544333,  68899.24737921, -10707.49254687,\n",
              "         58818.33628204]])"
            ]
          },
          "metadata": {},
          "execution_count": 16
        }
      ]
    },
    {
      "cell_type": "code",
      "metadata": {
        "colab": {
          "base_uri": "https://localhost:8080/"
        },
        "id": "c0f19f0b",
        "outputId": "84dff174-4e43-43c3-924f-e89e0092a595"
      },
      "source": [
        "theta = theta.reshape((4,1))\n",
        "theta.shape"
      ],
      "id": "c0f19f0b",
      "execution_count": null,
      "outputs": [
        {
          "output_type": "execute_result",
          "data": {
            "text/plain": [
              "(4, 1)"
            ]
          },
          "metadata": {},
          "execution_count": 17
        }
      ]
    },
    {
      "cell_type": "code",
      "metadata": {
        "colab": {
          "base_uri": "https://localhost:8080/"
        },
        "id": "0da62e21",
        "outputId": "8dc55d0f-edf9-4613-a4ec-74676687ec25"
      },
      "source": [
        "theta"
      ],
      "id": "0da62e21",
      "execution_count": null,
      "outputs": [
        {
          "output_type": "execute_result",
          "data": {
            "text/plain": [
              "array([[ 24215.51544333],\n",
              "       [ 68899.24737921],\n",
              "       [-10707.49254687],\n",
              "       [ 58818.33628204]])"
            ]
          },
          "metadata": {},
          "execution_count": 18
        }
      ]
    },
    {
      "cell_type": "code",
      "metadata": {
        "colab": {
          "base_uri": "https://localhost:8080/"
        },
        "id": "9a7f2389",
        "outputId": "ef843258-4f86-4cc3-a945-cc775d5b67fc"
      },
      "source": [
        "# PREDICTING THE VALUES ON X_test USING THE NEW WEIGHTS theta\n",
        "\n",
        "Y_pred = np.dot(X_test, theta)\n",
        "error = 0\n",
        "for i in range(n_test-1):\n",
        "    error += abs((Y_test[i] - Y_pred[i])/Y_test[i])\n",
        "error = error/n_test\n",
        "\n",
        "print(\"MEAN ABSOLUTE PERCENTAGE ERROR: \")\n",
        "float(error*100)"
      ],
      "id": "9a7f2389",
      "execution_count": null,
      "outputs": [
        {
          "output_type": "stream",
          "name": "stdout",
          "text": [
            "MEAN ABSOLUTE PERCENTAGE ERROR: \n"
          ]
        },
        {
          "output_type": "execute_result",
          "data": {
            "text/plain": [
              "26.331464731636085"
            ]
          },
          "metadata": {},
          "execution_count": 19
        }
      ]
    },
    {
      "cell_type": "markdown",
      "metadata": {
        "id": "HK9IuDsw3Jny"
      },
      "source": [
        "# Lambda vs Batch Gradient Descent with regularization"
      ],
      "id": "HK9IuDsw3Jny"
    },
    {
      "cell_type": "code",
      "metadata": {
        "colab": {
          "base_uri": "https://localhost:8080/"
        },
        "id": "gzyQTS1s3I1a",
        "outputId": "eef94a1b-591f-42cd-a958-968b6c6098a2"
      },
      "source": [
        "lamdas = [-100,-110,-120, -130, -140]\n",
        "errors = []\n",
        "\n",
        "\n",
        "for Lambda in lamdas:\n",
        "  theta = np.zeros((1,4))\n",
        "\n",
        "  # GRADIENT DESCENT ALGORITHM\n",
        "  for epochs in range(5000):\n",
        "      cof = 1 - ((lr*Lambda)/n_train)\n",
        "      theta = cof*theta - (lr/n_train)*Slope(theta, X_train,Y_train)\n",
        "  # PREDICTING THE VALUES ON X_test USING THE NEW WEIGHTS theta\n",
        "  theta = theta.reshape((4,1))\n",
        "  Y_pred = np.dot(X_test, theta)\n",
        "  error = 0\n",
        "  for i in range(n_test-1):\n",
        "      error += abs((Y_test[i] - Y_pred[i])/Y_test[i])\n",
        "  error = error/n_test\n",
        "  errors.append(float(error*100))\n",
        "  print(f\"Error with Lambda {Lambda} is {float(error*100)}\")"
      ],
      "id": "gzyQTS1s3I1a",
      "execution_count": null,
      "outputs": [
        {
          "output_type": "stream",
          "name": "stdout",
          "text": [
            "Error with Lambda -100 is 18.98049534029176\n",
            "Error with Lambda -110 is 18.918288188014984\n",
            "Error with Lambda -120 is 18.92124816522627\n",
            "Error with Lambda -130 is 18.97497435400053\n",
            "Error with Lambda -140 is 19.063146694245418\n"
          ]
        }
      ]
    },
    {
      "cell_type": "code",
      "metadata": {
        "colab": {
          "base_uri": "https://localhost:8080/",
          "height": 295
        },
        "id": "j4FjyKP855iK",
        "outputId": "149e09eb-2ef1-4276-b08f-4e6286fd4b45"
      },
      "source": [
        "import matplotlib.pyplot as plt\n",
        "plt.plot(lamdas,errors)\n",
        "plt.xlabel(\"lamda values\")\n",
        "plt.ylabel(\"mean abs % error\")\n",
        "plt.title(\"Batch GDA lamda vs mean abs % error\")\n",
        "plt.show()"
      ],
      "id": "j4FjyKP855iK",
      "execution_count": null,
      "outputs": [
        {
          "output_type": "display_data",
          "data": {
            "image/png": "[encoded data removed]",
            "text/plain": [
              "<Figure size 432x288 with 1 Axes>"
            ]
          },
          "metadata": {
            "needs_background": "light"
          }
        }
      ]
    },
    {
      "cell_type": "markdown",
      "metadata": {
        "id": "0cc16b07"
      },
      "source": [
        "# Using Stochastic gradient without regularisation."
      ],
      "id": "0cc16b07"
    },
    {
      "cell_type": "code",
      "metadata": {
        "id": "IllAyToW5tyt"
      },
      "source": [
        ""
      ],
      "id": "IllAyToW5tyt",
      "execution_count": null,
      "outputs": []
    },
    {
      "cell_type": "code",
      "metadata": {
        "id": "33e038ca"
      },
      "source": [
        "# FUNCTION TO FIND SLOPE FOR STOCHASTIC DESCENT\n",
        "def SlopeStoch(theta, X_train, Y, ind):\n",
        "\titr = 0\n",
        "\tfor j in range(theta.shape[1]):\n",
        "\t\titr = itr + theta[0][j]*X_train[ind][j]\n",
        "\treturn (itr - Y) * X_train[ind]\n"
      ],
      "id": "33e038ca",
      "execution_count": null,
      "outputs": []
    },
    {
      "cell_type": "code",
      "metadata": {
        "colab": {
          "base_uri": "https://localhost:8080/"
        },
        "id": "aa0505c1",
        "outputId": "8ca37ad6-efb4-422e-85bc-7143a4022c9a"
      },
      "source": [
        "lr = 0.0005\n",
        "theta = np.zeros((1,4))\n",
        "theta"
      ],
      "id": "aa0505c1",
      "execution_count": null,
      "outputs": [
        {
          "output_type": "execute_result",
          "data": {
            "text/plain": [
              "array([[0., 0., 0., 0.]])"
            ]
          },
          "metadata": {},
          "execution_count": 25
        }
      ]
    },
    {
      "cell_type": "code",
      "metadata": {
        "colab": {
          "base_uri": "https://localhost:8080/"
        },
        "id": "86ecb0c8",
        "outputId": "71a2fa0e-cf7d-46cb-b50b-5a8748a23f1b"
      },
      "source": [
        "# GRADIENT DESCENT ALGORITHM\n",
        "for iter in range(10):\n",
        "    for i in range(X_train.shape[0]):\n",
        "        theta = theta - (lr)*SlopeStoch(theta, X_train, Y_train[i], i)\n",
        "theta"
      ],
      "id": "86ecb0c8",
      "execution_count": null,
      "outputs": [
        {
          "output_type": "execute_result",
          "data": {
            "text/plain": [
              "array([[ 7010.38219526,  2740.10071648, 15349.70780109, 13593.29892176]])"
            ]
          },
          "metadata": {},
          "execution_count": 26
        }
      ]
    },
    {
      "cell_type": "code",
      "metadata": {
        "colab": {
          "base_uri": "https://localhost:8080/"
        },
        "id": "9a42b75b",
        "outputId": "003b1b3d-dd18-4497-8e7f-8ef00ccccbed"
      },
      "source": [
        "theta = theta.reshape((4,1))\n",
        "theta.shape"
      ],
      "id": "9a42b75b",
      "execution_count": null,
      "outputs": [
        {
          "output_type": "execute_result",
          "data": {
            "text/plain": [
              "(4, 1)"
            ]
          },
          "metadata": {},
          "execution_count": 27
        }
      ]
    },
    {
      "cell_type": "code",
      "metadata": {
        "colab": {
          "base_uri": "https://localhost:8080/"
        },
        "id": "7f5a49d9",
        "outputId": "bcf8cd83-34aa-4665-bf5f-6fa4d83448d2"
      },
      "source": [
        "# PREDICTING THE VALUES ON X_test USING THE NEW WEIGHTS theta\n",
        "\n",
        "Y_pred = np.dot(X_test, theta)\n",
        "error = 0\n",
        "for i in range(n_test-1):\n",
        "    error += abs((Y_test[i] - Y_pred[i])) / Y_test[i]\n",
        "error = error/n_test\n",
        "\n",
        "print(\"MEAN ABSOLUTE PERCENTAGE ERROR: \")\n",
        "float(error*100)"
      ],
      "id": "7f5a49d9",
      "execution_count": null,
      "outputs": [
        {
          "output_type": "stream",
          "name": "stdout",
          "text": [
            "MEAN ABSOLUTE PERCENTAGE ERROR: \n"
          ]
        },
        {
          "output_type": "execute_result",
          "data": {
            "text/plain": [
              "19.423526436438767"
            ]
          },
          "metadata": {},
          "execution_count": 28
        }
      ]
    },
    {
      "cell_type": "markdown",
      "metadata": {
        "id": "b6f5a8a0"
      },
      "source": [
        "# Using Stochastic gradient with Regularization"
      ],
      "id": "b6f5a8a0"
    },
    {
      "cell_type": "code",
      "metadata": {
        "colab": {
          "base_uri": "https://localhost:8080/"
        },
        "id": "10b3e103",
        "outputId": "2c302af1-4610-4455-d7d2-d9b16f970c7b"
      },
      "source": [
        "lr = 0.0005\n",
        "Lambda = -30\n",
        "theta = np.zeros((1,4))\n",
        "theta"
      ],
      "id": "10b3e103",
      "execution_count": null,
      "outputs": [
        {
          "output_type": "execute_result",
          "data": {
            "text/plain": [
              "array([[0., 0., 0., 0.]])"
            ]
          },
          "metadata": {},
          "execution_count": 29
        }
      ]
    },
    {
      "cell_type": "code",
      "metadata": {
        "colab": {
          "base_uri": "https://localhost:8080/"
        },
        "id": "4611507d",
        "outputId": "287aa4ba-109b-4019-b879-897f591f3943"
      },
      "source": [
        "# GRADIENT DESCENT ALGORITHM\n",
        "for itr in range(10):\n",
        "  for i in range(X_train.shape[0]):\n",
        "    cof = 1-((Lambda*lr)/n_train)\n",
        "    theta = cof*theta - lr*(SlopeStoch(theta, X_train, Y_train[i], i))\n",
        "theta"
      ],
      "id": "4611507d",
      "execution_count": null,
      "outputs": [
        {
          "output_type": "execute_result",
          "data": {
            "text/plain": [
              "array([[ 7145.04049021,  2941.69365658, 15243.24581134, 14035.54161393]])"
            ]
          },
          "metadata": {},
          "execution_count": 30
        }
      ]
    },
    {
      "cell_type": "code",
      "metadata": {
        "colab": {
          "base_uri": "https://localhost:8080/"
        },
        "id": "561616ce",
        "outputId": "1e20aff0-72af-4e2b-9f5d-c95b34221aff"
      },
      "source": [
        "theta = theta.reshape((4,1))\n",
        "theta.shape"
      ],
      "id": "561616ce",
      "execution_count": null,
      "outputs": [
        {
          "output_type": "execute_result",
          "data": {
            "text/plain": [
              "(4, 1)"
            ]
          },
          "metadata": {},
          "execution_count": 31
        }
      ]
    },
    {
      "cell_type": "code",
      "metadata": {
        "colab": {
          "base_uri": "https://localhost:8080/"
        },
        "id": "6946ae25",
        "outputId": "69381124-62e8-417e-b36e-c6a2177b09a1"
      },
      "source": [
        "# PREDICTING THE VALUES ON X_test USING THE NEW WEIGHTS theta\n",
        "\n",
        "Y_pred = np.dot(X_test, theta)\n",
        "error = 0\n",
        "for i in range(n_test-1):\n",
        "    error += abs((Y_test[i] - Y_pred[i])) / Y_test[i]\n",
        "error = error/n_test\n",
        "\n",
        "print(\"MEAN ABSOLUTE PERCENTAGE ERROR: \")\n",
        "float(error*100)"
      ],
      "id": "6946ae25",
      "execution_count": null,
      "outputs": [
        {
          "output_type": "stream",
          "name": "stdout",
          "text": [
            "MEAN ABSOLUTE PERCENTAGE ERROR: \n"
          ]
        },
        {
          "output_type": "execute_result",
          "data": {
            "text/plain": [
              "19.299850024980504"
            ]
          },
          "metadata": {},
          "execution_count": 32
        }
      ]
    },
    {
      "cell_type": "markdown",
      "metadata": {
        "id": "p2-zZMwj6GCY"
      },
      "source": [
        "# Lambda vs Stochastic Gradient Descent with regularization\n"
      ],
      "id": "p2-zZMwj6GCY"
    },
    {
      "cell_type": "code",
      "metadata": {
        "colab": {
          "base_uri": "https://localhost:8080/"
        },
        "id": "4qiChDfr6HN8",
        "outputId": "e507fe66-7726-4840-86e3-7d11b8720465"
      },
      "source": [
        "lamdas = [-10,-20,-30, -40, -50]\n",
        "errors = []\n",
        "\n",
        "\n",
        "for Lambda in lamdas:\n",
        "  theta = np.zeros((1,4))\n",
        "\n",
        "  # GRADIENT DESCENT ALGORITHM\n",
        "  for itr in range(10):\n",
        "    for i in range(X_train.shape[0]):\n",
        "      cof = 1-((Lambda*lr)/n_train)\n",
        "      theta = cof*theta - lr*(SlopeStoch(theta, X_train, Y_train[i], i))\n",
        "\n",
        "  # PREDICTING THE VALUES ON X_test USING THE NEW WEIGHTS theta\n",
        "  theta = theta.reshape((4,1))\n",
        "  Y_pred = np.dot(X_test, theta)\n",
        "  error = 0\n",
        "  for i in range(n_test-1):\n",
        "      error += abs((Y_test[i] - Y_pred[i])/Y_test[i])\n",
        "  error = error/n_test\n",
        "  errors.append(float(error*100))\n",
        "  print(f\"Error with Lambda {Lambda} is {float(error*100)}\")"
      ],
      "id": "4qiChDfr6HN8",
      "execution_count": null,
      "outputs": [
        {
          "output_type": "stream",
          "name": "stdout",
          "text": [
            "Error with Lambda -10 is 20.77802810995078\n",
            "Error with Lambda -20 is 20.7328187584684\n",
            "Error with Lambda -30 is 20.689629884914453\n",
            "Error with Lambda -40 is 20.64637027487252\n",
            "Error with Lambda -50 is 20.602877692418346\n"
          ]
        }
      ]
    },
    {
      "cell_type": "code",
      "metadata": {
        "colab": {
          "base_uri": "https://localhost:8080/",
          "height": 295
        },
        "id": "M-HEX_5E6aMX",
        "outputId": "3acb58c9-af7d-46b6-b3c9-6f1300a68f6b"
      },
      "source": [
        "import matplotlib.pyplot as plt\n",
        "plt.plot(lamdas,errors)\n",
        "plt.xlabel(\"lamda values\")\n",
        "plt.ylabel(\"mean absolute % error\")\n",
        "plt.title(\"Stochastic GDA lamda vs mean abs % error\")\n",
        "plt.show()"
      ],
      "id": "M-HEX_5E6aMX",
      "execution_count": null,
      "outputs": [
        {
          "output_type": "display_data",
          "data": {
            "image/png": "[encoded data removed]",
            "text/plain": [
              "<Figure size 432x288 with 1 Axes>"
            ]
          },
          "metadata": {
            "needs_background": "light"
          }
        }
      ]
    },
    {
      "cell_type": "markdown",
      "metadata": {
        "id": "8211466c"
      },
      "source": [
        "# Using Minibatch gradient without regularisation"
      ],
      "id": "8211466c"
    },
    {
      "cell_type": "code",
      "metadata": {
        "id": "912309b5"
      },
      "source": [
        "# USEFUL FUNCTIONS FOR MINI BATCH GRADIENT \n",
        "def product(w,x):\n",
        "    ans=0\n",
        "    for i in range(x.shape[0]):\n",
        "        ans= ans + w[0][i]*x[i]\n",
        "    return ans\n",
        "\n",
        "def gradient(x,w,y,st,bs):\n",
        "    ans=np.zeros(w.shape)\n",
        "    for i in range(st,st+bs):\n",
        "        if(i>=x.shape[0]):\n",
        "          break\n",
        "        ans=(ans+(product(w,x[i])-y[i])*x[i])\n",
        "    return ans\n"
      ],
      "id": "912309b5",
      "execution_count": null,
      "outputs": []
    },
    {
      "cell_type": "code",
      "metadata": {
        "colab": {
          "base_uri": "https://localhost:8080/"
        },
        "id": "ef5aa734",
        "outputId": "9ce67016-4d71-4de3-920b-aa95263a019f"
      },
      "source": [
        "BatchSize = 20;\n",
        "lr = 0.0002\n",
        "theta = np.zeros((1,4))\n",
        "theta"
      ],
      "id": "ef5aa734",
      "execution_count": null,
      "outputs": [
        {
          "output_type": "execute_result",
          "data": {
            "text/plain": [
              "array([[0., 0., 0., 0.]])"
            ]
          },
          "metadata": {},
          "execution_count": 37
        }
      ]
    },
    {
      "cell_type": "code",
      "metadata": {
        "colab": {
          "base_uri": "https://localhost:8080/"
        },
        "id": "707a1ef3",
        "outputId": "3fc02dfa-d082-4184-e7ab-c7a569401638"
      },
      "source": [
        "# GRADIENT DESCENT ALGORITHM\n",
        "for itr in range(50):\n",
        "  for i in range(BatchSize):\n",
        "    theta = theta - (lr*gradient(X_train,theta,Y_train,BatchSize*i,BatchSize))/BatchSize\n",
        "theta"
      ],
      "id": "707a1ef3",
      "execution_count": null,
      "outputs": [
        {
          "output_type": "execute_result",
          "data": {
            "text/plain": [
              "array([[ 4891.71936057,   221.38545923, 14598.66776056,  7156.34800691]])"
            ]
          },
          "metadata": {},
          "execution_count": 38
        }
      ]
    },
    {
      "cell_type": "code",
      "metadata": {
        "colab": {
          "base_uri": "https://localhost:8080/"
        },
        "id": "d595bd91",
        "outputId": "9cb91900-80da-4c5f-9f9f-b2b449bc15a8"
      },
      "source": [
        "theta = theta.reshape((4,1))\n",
        "theta.shape"
      ],
      "id": "d595bd91",
      "execution_count": null,
      "outputs": [
        {
          "output_type": "execute_result",
          "data": {
            "text/plain": [
              "(4, 1)"
            ]
          },
          "metadata": {},
          "execution_count": 39
        }
      ]
    },
    {
      "cell_type": "code",
      "metadata": {
        "colab": {
          "base_uri": "https://localhost:8080/"
        },
        "id": "6b4c78d9",
        "outputId": "5147f5d2-7ceb-436c-8fe4-fbe54dccdd9a"
      },
      "source": [
        "# PREDICTING THE VALUES ON X_test USING THE NEW WEIGHTS theta\n",
        "\n",
        "Y_pred = np.dot(X_test, theta)\n",
        "error = 0\n",
        "for i in range(n_test-1):\n",
        "    error += abs((Y_test[i] - Y_pred[i])/Y_test[i])\n",
        "error = error/n_test\n",
        "\n",
        "print(\"MEAN ABSOLUTE PERCENTAGE ERROR: \")\n",
        "float(error*100)"
      ],
      "id": "6b4c78d9",
      "execution_count": null,
      "outputs": [
        {
          "output_type": "stream",
          "name": "stdout",
          "text": [
            "MEAN ABSOLUTE PERCENTAGE ERROR: \n"
          ]
        },
        {
          "output_type": "execute_result",
          "data": {
            "text/plain": [
              "25.794843431025104"
            ]
          },
          "metadata": {},
          "execution_count": 40
        }
      ]
    },
    {
      "cell_type": "markdown",
      "metadata": {
        "id": "2d21d923"
      },
      "source": [
        "# Using Minibatch gradient with regularisation"
      ],
      "id": "2d21d923"
    },
    {
      "cell_type": "code",
      "metadata": {
        "colab": {
          "base_uri": "https://localhost:8080/"
        },
        "id": "6ca1bf87",
        "outputId": "7ae02672-76dc-4d81-f5e3-6dd41eac1c0e"
      },
      "source": [
        "BatchSize = 20;\n",
        "lr = 0.0002\n",
        "Lambda = -20\n",
        "theta = np.zeros((1,4))\n",
        "theta"
      ],
      "id": "6ca1bf87",
      "execution_count": null,
      "outputs": [
        {
          "output_type": "execute_result",
          "data": {
            "text/plain": [
              "array([[0., 0., 0., 0.]])"
            ]
          },
          "metadata": {},
          "execution_count": 41
        }
      ]
    },
    {
      "cell_type": "code",
      "metadata": {
        "colab": {
          "base_uri": "https://localhost:8080/"
        },
        "id": "fa64883e",
        "outputId": "aca1a0d6-b9ce-4a37-d85a-99b5b681173d"
      },
      "source": [
        "# GRADIENT DESCENT ALGORITHM\n",
        "for itr in range(50):\n",
        "  for i in range(BatchSize):\n",
        "    temp = 1-((Lambda*lr)/BatchSize)\n",
        "    theta = (temp * theta) - (lr * gradient(X_train, theta, Y_train, BatchSize*i, BatchSize))/ BatchSize\n",
        "\n",
        "theta"
      ],
      "id": "fa64883e",
      "execution_count": null,
      "outputs": [
        {
          "output_type": "execute_result",
          "data": {
            "text/plain": [
              "array([[ 5231.20289362,   247.60936576, 15585.22770405,  7672.11402056]])"
            ]
          },
          "metadata": {},
          "execution_count": 42
        }
      ]
    },
    {
      "cell_type": "code",
      "metadata": {
        "colab": {
          "base_uri": "https://localhost:8080/"
        },
        "id": "555b6e7f",
        "outputId": "5e4cc583-8fd8-4a5b-ed56-781080bf9ab2"
      },
      "source": [
        "theta = theta.reshape((4,1))\n",
        "theta.shape"
      ],
      "id": "555b6e7f",
      "execution_count": null,
      "outputs": [
        {
          "output_type": "execute_result",
          "data": {
            "text/plain": [
              "(4, 1)"
            ]
          },
          "metadata": {},
          "execution_count": 43
        }
      ]
    },
    {
      "cell_type": "code",
      "metadata": {
        "colab": {
          "base_uri": "https://localhost:8080/"
        },
        "id": "eb5e309b",
        "outputId": "b058d60b-b83e-40dd-c5d4-a53735239a8a"
      },
      "source": [
        "# PREDICTING THE VALUES ON X_test USING THE NEW WEIGHTS theta\n",
        "\n",
        "Y_pred = np.dot(X_test, theta)\n",
        "error = 0\n",
        "for i in range(n_test-1):\n",
        "    error += abs((Y_test[i] - Y_pred[i])/Y_test[i])\n",
        "error = error/n_test\n",
        "\n",
        "print(\"MEAN ABSOLUTE PERCENTAGE ERROR: \")\n",
        "float(error*100)"
      ],
      "id": "eb5e309b",
      "execution_count": null,
      "outputs": [
        {
          "output_type": "stream",
          "name": "stdout",
          "text": [
            "MEAN ABSOLUTE PERCENTAGE ERROR: \n"
          ]
        },
        {
          "output_type": "execute_result",
          "data": {
            "text/plain": [
              "23.185650124145248"
            ]
          },
          "metadata": {},
          "execution_count": 44
        }
      ]
    },
    {
      "cell_type": "markdown",
      "metadata": {
        "id": "tFRwjEI06hVW"
      },
      "source": [
        "# Lambda vs Mini-Batch Gradient Descent with regularization"
      ],
      "id": "tFRwjEI06hVW"
    },
    {
      "cell_type": "code",
      "metadata": {
        "id": "069f8771",
        "colab": {
          "base_uri": "https://localhost:8080/"
        },
        "outputId": "f89694d5-0df9-4456-cf01-a00171965714"
      },
      "source": [
        "lamdas = [-10,-20,-30, -40, -50]\n",
        "errors = []\n",
        "\n",
        "\n",
        "for Lambda in lamdas:\n",
        "  theta = np.zeros((1,4))\n",
        "\n",
        "  # GRADIENT DESCENT ALGORITHM\n",
        "  for itr in range(50):\n",
        "    for i in range(BatchSize):\n",
        "      temp = 1-((Lambda*lr)/BatchSize)\n",
        "      theta = (temp * theta) - (lr * gradient(X_train, theta, Y_train, BatchSize*i, BatchSize))/ BatchSize\n",
        "\n",
        "\n",
        "  # PREDICTING THE VALUES ON X_test USING THE NEW WEIGHTS theta\n",
        "  theta = theta.reshape((4,1))\n",
        "  Y_pred = np.dot(X_test, theta)\n",
        "  error = 0\n",
        "  for i in range(n_test-1):\n",
        "      error += abs((Y_test[i] - Y_pred[i])/Y_test[i])\n",
        "  error = error/n_test\n",
        "  errors.append(float(error*100))\n",
        "  print(f\"Error with Lambda {Lambda} is {float(error*100)}\")"
      ],
      "id": "069f8771",
      "execution_count": null,
      "outputs": [
        {
          "output_type": "stream",
          "name": "stdout",
          "text": [
            "Error with Lambda -10 is 24.43542456789495\n",
            "Error with Lambda -20 is 23.185650124145248\n",
            "Error with Lambda -30 is 22.14076554496143\n",
            "Error with Lambda -40 is 21.271138715865558\n",
            "Error with Lambda -50 is 20.686004436509982\n"
          ]
        }
      ]
    },
    {
      "cell_type": "code",
      "metadata": {
        "id": "de96cf35",
        "colab": {
          "base_uri": "https://localhost:8080/",
          "height": 295
        },
        "outputId": "ffb1ebee-9393-4e69-d8df-da5c23a91834"
      },
      "source": [
        "import matplotlib.pyplot as plt\n",
        "plt.plot(lamdas,errors)\n",
        "plt.xlabel(\"lamda values\")\n",
        "plt.ylabel(\"Mean absolute % error\")\n",
        "plt.title(\"Mini Batch GDA lamda vs mean abs % error\")\n",
        "plt.show()"
      ],
      "id": "de96cf35",
      "execution_count": null,
      "outputs": [
        {
          "output_type": "display_data",
          "data": {
            "image/png": "[encoded data removed]",
            "text/plain": [
              "<Figure size 432x288 with 1 Axes>"
            ]
          },
          "metadata": {
            "needs_background": "light"
          }
        }
      ]
    },
    {
      "cell_type": "code",
      "metadata": {
        "id": "VAVYK5Um65YA"
      },
      "source": [
        ""
      ],
      "id": "VAVYK5Um65YA",
      "execution_count": null,
      "outputs": []
    }
  ]
}