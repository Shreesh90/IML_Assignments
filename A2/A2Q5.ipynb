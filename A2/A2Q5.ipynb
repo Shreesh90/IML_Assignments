{
 "cells": [
  {
   "cell_type": "code",
   "execution_count": 100,
   "id": "0eb3cd11",
   "metadata": {},
   "outputs": [],
   "source": [
    "import numpy as np\n",
    "import pandas as pd\n",
    "import matplotlib.pyplot as plt"
   ]
  },
  {
   "cell_type": "code",
   "execution_count": 101,
   "id": "92a12f89",
   "metadata": {},
   "outputs": [],
   "source": [
    "data = pd.read_csv('covid.csv')"
   ]
  },
  {
   "cell_type": "code",
   "execution_count": 102,
   "id": "208fed7a",
   "metadata": {},
   "outputs": [
    {
     "data": {
      "text/html": [
       "<div>\n",
       "<style scoped>\n",
       "    .dataframe tbody tr th:only-of-type {\n",
       "        vertical-align: middle;\n",
       "    }\n",
       "\n",
       "    .dataframe tbody tr th {\n",
       "        vertical-align: top;\n",
       "    }\n",
       "\n",
       "    .dataframe thead th {\n",
       "        text-align: right;\n",
       "    }\n",
       "</style>\n",
       "<table border=\"1\" class=\"dataframe\">\n",
       "  <thead>\n",
       "    <tr style=\"text-align: right;\">\n",
       "      <th></th>\n",
       "      <th>Date</th>\n",
       "      <th>DailyDeaths</th>\n",
       "    </tr>\n",
       "  </thead>\n",
       "  <tbody>\n",
       "    <tr>\n",
       "      <th>0</th>\n",
       "      <td>1</td>\n",
       "      <td>3689</td>\n",
       "    </tr>\n",
       "    <tr>\n",
       "      <th>1</th>\n",
       "      <td>2</td>\n",
       "      <td>3417</td>\n",
       "    </tr>\n",
       "    <tr>\n",
       "      <th>2</th>\n",
       "      <td>3</td>\n",
       "      <td>3449</td>\n",
       "    </tr>\n",
       "    <tr>\n",
       "      <th>3</th>\n",
       "      <td>4</td>\n",
       "      <td>3780</td>\n",
       "    </tr>\n",
       "    <tr>\n",
       "      <th>4</th>\n",
       "      <td>5</td>\n",
       "      <td>3980</td>\n",
       "    </tr>\n",
       "    <tr>\n",
       "      <th>5</th>\n",
       "      <td>6</td>\n",
       "      <td>3915</td>\n",
       "    </tr>\n",
       "    <tr>\n",
       "      <th>6</th>\n",
       "      <td>7</td>\n",
       "      <td>4187</td>\n",
       "    </tr>\n",
       "    <tr>\n",
       "      <th>7</th>\n",
       "      <td>8</td>\n",
       "      <td>4077</td>\n",
       "    </tr>\n",
       "    <tr>\n",
       "      <th>8</th>\n",
       "      <td>9</td>\n",
       "      <td>3769</td>\n",
       "    </tr>\n",
       "    <tr>\n",
       "      <th>9</th>\n",
       "      <td>10</td>\n",
       "      <td>3876</td>\n",
       "    </tr>\n",
       "    <tr>\n",
       "      <th>10</th>\n",
       "      <td>11</td>\n",
       "      <td>4205</td>\n",
       "    </tr>\n",
       "    <tr>\n",
       "      <th>11</th>\n",
       "      <td>12</td>\n",
       "      <td>4120</td>\n",
       "    </tr>\n",
       "    <tr>\n",
       "      <th>12</th>\n",
       "      <td>13</td>\n",
       "      <td>4000</td>\n",
       "    </tr>\n",
       "    <tr>\n",
       "      <th>13</th>\n",
       "      <td>14</td>\n",
       "      <td>3890</td>\n",
       "    </tr>\n",
       "    <tr>\n",
       "      <th>14</th>\n",
       "      <td>15</td>\n",
       "      <td>4077</td>\n",
       "    </tr>\n",
       "    <tr>\n",
       "      <th>15</th>\n",
       "      <td>16</td>\n",
       "      <td>4106</td>\n",
       "    </tr>\n",
       "    <tr>\n",
       "      <th>16</th>\n",
       "      <td>17</td>\n",
       "      <td>4329</td>\n",
       "    </tr>\n",
       "    <tr>\n",
       "      <th>17</th>\n",
       "      <td>18</td>\n",
       "      <td>4529</td>\n",
       "    </tr>\n",
       "    <tr>\n",
       "      <th>18</th>\n",
       "      <td>19</td>\n",
       "      <td>3874</td>\n",
       "    </tr>\n",
       "    <tr>\n",
       "      <th>19</th>\n",
       "      <td>20</td>\n",
       "      <td>4209</td>\n",
       "    </tr>\n",
       "    <tr>\n",
       "      <th>20</th>\n",
       "      <td>21</td>\n",
       "      <td>4194</td>\n",
       "    </tr>\n",
       "    <tr>\n",
       "      <th>21</th>\n",
       "      <td>22</td>\n",
       "      <td>3741</td>\n",
       "    </tr>\n",
       "    <tr>\n",
       "      <th>22</th>\n",
       "      <td>23</td>\n",
       "      <td>4454</td>\n",
       "    </tr>\n",
       "    <tr>\n",
       "      <th>23</th>\n",
       "      <td>24</td>\n",
       "      <td>3511</td>\n",
       "    </tr>\n",
       "    <tr>\n",
       "      <th>24</th>\n",
       "      <td>25</td>\n",
       "      <td>4157</td>\n",
       "    </tr>\n",
       "    <tr>\n",
       "      <th>25</th>\n",
       "      <td>26</td>\n",
       "      <td>3847</td>\n",
       "    </tr>\n",
       "    <tr>\n",
       "      <th>26</th>\n",
       "      <td>27</td>\n",
       "      <td>3660</td>\n",
       "    </tr>\n",
       "    <tr>\n",
       "      <th>27</th>\n",
       "      <td>28</td>\n",
       "      <td>3617</td>\n",
       "    </tr>\n",
       "    <tr>\n",
       "      <th>28</th>\n",
       "      <td>29</td>\n",
       "      <td>3460</td>\n",
       "    </tr>\n",
       "    <tr>\n",
       "      <th>29</th>\n",
       "      <td>30</td>\n",
       "      <td>3128</td>\n",
       "    </tr>\n",
       "    <tr>\n",
       "      <th>30</th>\n",
       "      <td>31</td>\n",
       "      <td>2795</td>\n",
       "    </tr>\n",
       "  </tbody>\n",
       "</table>\n",
       "</div>"
      ],
      "text/plain": [
       "    Date  DailyDeaths\n",
       "0      1         3689\n",
       "1      2         3417\n",
       "2      3         3449\n",
       "3      4         3780\n",
       "4      5         3980\n",
       "5      6         3915\n",
       "6      7         4187\n",
       "7      8         4077\n",
       "8      9         3769\n",
       "9     10         3876\n",
       "10    11         4205\n",
       "11    12         4120\n",
       "12    13         4000\n",
       "13    14         3890\n",
       "14    15         4077\n",
       "15    16         4106\n",
       "16    17         4329\n",
       "17    18         4529\n",
       "18    19         3874\n",
       "19    20         4209\n",
       "20    21         4194\n",
       "21    22         3741\n",
       "22    23         4454\n",
       "23    24         3511\n",
       "24    25         4157\n",
       "25    26         3847\n",
       "26    27         3660\n",
       "27    28         3617\n",
       "28    29         3460\n",
       "29    30         3128\n",
       "30    31         2795"
      ]
     },
     "execution_count": 102,
     "metadata": {},
     "output_type": "execute_result"
    }
   ],
   "source": [
    "data"
   ]
  },
  {
   "cell_type": "code",
   "execution_count": 103,
   "id": "6efe960f",
   "metadata": {},
   "outputs": [],
   "source": [
    "colA = np.array(data.iloc[:,0].values)"
   ]
  },
  {
   "cell_type": "code",
   "execution_count": 104,
   "id": "6b6ade47",
   "metadata": {},
   "outputs": [
    {
     "data": {
      "text/plain": [
       "array([ 1,  2,  3,  4,  5,  6,  7,  8,  9, 10, 11, 12, 13, 14, 15, 16, 17,\n",
       "       18, 19, 20, 21, 22, 23, 24, 25, 26, 27, 28, 29, 30, 31])"
      ]
     },
     "execution_count": 104,
     "metadata": {},
     "output_type": "execute_result"
    }
   ],
   "source": [
    "colA"
   ]
  },
  {
   "cell_type": "code",
   "execution_count": 105,
   "id": "78bc612a",
   "metadata": {},
   "outputs": [],
   "source": [
    "colB = np.array(data.iloc[:,1].values)"
   ]
  },
  {
   "cell_type": "code",
   "execution_count": 106,
   "id": "cd56bc9b",
   "metadata": {},
   "outputs": [
    {
     "data": {
      "text/plain": [
       "array([3689, 3417, 3449, 3780, 3980, 3915, 4187, 4077, 3769, 3876, 4205,\n",
       "       4120, 4000, 3890, 4077, 4106, 4329, 4529, 3874, 4209, 4194, 3741,\n",
       "       4454, 3511, 4157, 3847, 3660, 3617, 3460, 3128, 2795])"
      ]
     },
     "execution_count": 106,
     "metadata": {},
     "output_type": "execute_result"
    }
   ],
   "source": [
    "colB"
   ]
  },
  {
   "cell_type": "code",
   "execution_count": 107,
   "id": "ece5fdf4",
   "metadata": {},
   "outputs": [],
   "source": [
    "mcolA = np.mat(colA)"
   ]
  },
  {
   "cell_type": "code",
   "execution_count": 108,
   "id": "1b73f5f9",
   "metadata": {},
   "outputs": [
    {
     "data": {
      "text/plain": [
       "matrix([[ 1,  2,  3,  4,  5,  6,  7,  8,  9, 10, 11, 12, 13, 14, 15, 16,\n",
       "         17, 18, 19, 20, 21, 22, 23, 24, 25, 26, 27, 28, 29, 30, 31]])"
      ]
     },
     "execution_count": 108,
     "metadata": {},
     "output_type": "execute_result"
    }
   ],
   "source": [
    "mcolA"
   ]
  },
  {
   "cell_type": "code",
   "execution_count": 109,
   "id": "0e248a11",
   "metadata": {},
   "outputs": [],
   "source": [
    "mcolB = np.mat(colB)"
   ]
  },
  {
   "cell_type": "code",
   "execution_count": 110,
   "id": "9e9df988",
   "metadata": {},
   "outputs": [
    {
     "data": {
      "text/plain": [
       "matrix([[3689, 3417, 3449, 3780, 3980, 3915, 4187, 4077, 3769, 3876,\n",
       "         4205, 4120, 4000, 3890, 4077, 4106, 4329, 4529, 3874, 4209,\n",
       "         4194, 3741, 4454, 3511, 4157, 3847, 3660, 3617, 3460, 3128,\n",
       "         2795]])"
      ]
     },
     "execution_count": 110,
     "metadata": {},
     "output_type": "execute_result"
    }
   ],
   "source": [
    "mcolB"
   ]
  },
  {
   "cell_type": "code",
   "execution_count": 111,
   "id": "b4d35d2d",
   "metadata": {},
   "outputs": [],
   "source": [
    "n, m = mcolB.shape"
   ]
  },
  {
   "cell_type": "code",
   "execution_count": 112,
   "id": "3f553c14",
   "metadata": {},
   "outputs": [
    {
     "data": {
      "text/plain": [
       "31"
      ]
     },
     "execution_count": 112,
     "metadata": {},
     "output_type": "execute_result"
    }
   ],
   "source": [
    "m"
   ]
  },
  {
   "cell_type": "code",
   "execution_count": 113,
   "id": "0205ba6d",
   "metadata": {},
   "outputs": [],
   "source": [
    "one = np.ones((1,m), dtype = int)"
   ]
  },
  {
   "cell_type": "code",
   "execution_count": 114,
   "id": "89ec5a90",
   "metadata": {},
   "outputs": [
    {
     "data": {
      "text/plain": [
       "array([[1, 1, 1, 1, 1, 1, 1, 1, 1, 1, 1, 1, 1, 1, 1, 1, 1, 1, 1, 1, 1, 1,\n",
       "        1, 1, 1, 1, 1, 1, 1, 1, 1]])"
      ]
     },
     "execution_count": 114,
     "metadata": {},
     "output_type": "execute_result"
    }
   ],
   "source": [
    "one"
   ]
  },
  {
   "cell_type": "code",
   "execution_count": 115,
   "id": "2aa1779b",
   "metadata": {},
   "outputs": [],
   "source": [
    "X = np.hstack((one.T, mcolA.T))"
   ]
  },
  {
   "cell_type": "code",
   "execution_count": 116,
   "id": "9c31f294",
   "metadata": {},
   "outputs": [
    {
     "data": {
      "text/plain": [
       "(31, 2)"
      ]
     },
     "execution_count": 116,
     "metadata": {},
     "output_type": "execute_result"
    }
   ],
   "source": [
    "X.shape"
   ]
  },
  {
   "cell_type": "code",
   "execution_count": 117,
   "id": "9e3d6d37",
   "metadata": {},
   "outputs": [
    {
     "data": {
      "text/plain": [
       "matrix([[ 1,  1],\n",
       "        [ 1,  2],\n",
       "        [ 1,  3],\n",
       "        [ 1,  4],\n",
       "        [ 1,  5],\n",
       "        [ 1,  6],\n",
       "        [ 1,  7],\n",
       "        [ 1,  8],\n",
       "        [ 1,  9],\n",
       "        [ 1, 10],\n",
       "        [ 1, 11],\n",
       "        [ 1, 12],\n",
       "        [ 1, 13],\n",
       "        [ 1, 14],\n",
       "        [ 1, 15],\n",
       "        [ 1, 16],\n",
       "        [ 1, 17],\n",
       "        [ 1, 18],\n",
       "        [ 1, 19],\n",
       "        [ 1, 20],\n",
       "        [ 1, 21],\n",
       "        [ 1, 22],\n",
       "        [ 1, 23],\n",
       "        [ 1, 24],\n",
       "        [ 1, 25],\n",
       "        [ 1, 26],\n",
       "        [ 1, 27],\n",
       "        [ 1, 28],\n",
       "        [ 1, 29],\n",
       "        [ 1, 30],\n",
       "        [ 1, 31]])"
      ]
     },
     "execution_count": 117,
     "metadata": {},
     "output_type": "execute_result"
    }
   ],
   "source": [
    "X"
   ]
  },
  {
   "cell_type": "code",
   "execution_count": 118,
   "id": "56dbd835",
   "metadata": {},
   "outputs": [
    {
     "name": "stdout",
     "output_type": "stream",
     "text": [
      "(31, 2)\n"
     ]
    }
   ],
   "source": [
    "print(X.shape)"
   ]
  },
  {
   "cell_type": "code",
   "execution_count": 119,
   "id": "f8b0cd32",
   "metadata": {},
   "outputs": [],
   "source": [
    "def localWeightRegression(xmat,ymat,k):\n",
    "    m,n = np.shape(xmat)\n",
    "    ypred = np.zeros(m)\n",
    "    \n",
    "    for i in range(m):\n",
    "        ypred[i] = xmat[i] * localWeight(xmat[i],xmat,ymat,k)\n",
    "    return ypred"
   ]
  },
  {
   "cell_type": "code",
   "execution_count": 120,
   "id": "6dcbfb23",
   "metadata": {},
   "outputs": [],
   "source": [
    "def localWeight(point,xmat,ymat,k):\n",
    "    wt = kernal(point,xmat,k)\n",
    "    W = (X.T * (wt*X)).I * (X.T * wt * ymat.T)\n",
    "    return W"
   ]
  },
  {
   "cell_type": "code",
   "execution_count": 121,
   "id": "520f7064",
   "metadata": {},
   "outputs": [],
   "source": [
    "def kernal(point, xmat, k):\n",
    "    m,n = np.shape(xmat)\n",
    "    weights = np.mat(np.eye((m)))\n",
    "    \n",
    "    for j in range(m):\n",
    "        diff = point - X[j]\n",
    "        weights[j,j] = np.exp(diff*diff.T/(-2.0 * k**2))\n",
    "    return weights"
   ]
  },
  {
   "cell_type": "code",
   "execution_count": 122,
   "id": "87ce39da",
   "metadata": {},
   "outputs": [],
   "source": [
    "ypred = localWeightRegression(X,mcolB,0.8)"
   ]
  },
  {
   "cell_type": "code",
   "execution_count": 123,
   "id": "fffbc5b1",
   "metadata": {},
   "outputs": [
    {
     "data": {
      "text/plain": [
       "array([3678.61110746, 3499.91111948, 3534.20088564, 3745.23396455,\n",
       "       3912.19265017, 3992.26126972, 4085.77394337, 4023.85442166,\n",
       "       3882.67980382, 3936.62666568, 4096.23973532, 4101.44994665,\n",
       "       4008.45403405, 3967.91347483, 4044.97935937, 4154.67877942,\n",
       "       4308.01110034, 4317.16624408, 4117.05228675, 4126.00821393,\n",
       "       4092.53246752, 4012.66756989, 4063.33679381, 3886.55376233,\n",
       "       3933.93114326, 3862.77635082, 3699.08368203, 3585.17246248,\n",
       "       3409.69318462, 3124.29889004, 2795.27087137])"
      ]
     },
     "execution_count": 123,
     "metadata": {},
     "output_type": "execute_result"
    }
   ],
   "source": [
    "ypred"
   ]
  },
  {
   "cell_type": "code",
   "execution_count": 124,
   "id": "e692302a",
   "metadata": {},
   "outputs": [
    {
     "data": {
      "image/png": "[encoded data removed]",
      "text/plain": [
       "<Figure size 432x288 with 1 Axes>"
      ]
     },
     "metadata": {
      "needs_background": "light"
     },
     "output_type": "display_data"
    }
   ],
   "source": [
    "xsort = X.copy()\n",
    "xsort.sort(axis=0)\n",
    "plt.scatter(colA,colB,color='blue')\n",
    "plt.plot(xsort[:,1],ypred[X[:,1].argsort(0)],color='red',linewidth=1)\n",
    "plt.xlabel('days')\n",
    "plt.ylabel('Total daily detahs')\n",
    "plt.show()"
   ]
  },
  {
   "cell_type": "markdown",
   "id": "df4997f3",
   "metadata": {},
   "source": [
    "# Linear "
   ]
  },
  {
   "cell_type": "code",
   "execution_count": 125,
   "id": "ab207078",
   "metadata": {},
   "outputs": [],
   "source": [
    "numday=22"
   ]
  },
  {
   "cell_type": "code",
   "execution_count": 126,
   "id": "e853d77b",
   "metadata": {},
   "outputs": [],
   "source": [
    "totaldays=31"
   ]
  },
  {
   "cell_type": "code",
   "execution_count": 127,
   "id": "57bae230",
   "metadata": {},
   "outputs": [],
   "source": [
    "A=0"
   ]
  },
  {
   "cell_type": "code",
   "execution_count": 128,
   "id": "a518f6fb",
   "metadata": {},
   "outputs": [],
   "source": [
    "for i in range(0,22):\n",
    "    A +=colA[i]"
   ]
  },
  {
   "cell_type": "code",
   "execution_count": 129,
   "id": "46436d2d",
   "metadata": {},
   "outputs": [
    {
     "data": {
      "text/plain": [
       "253"
      ]
     },
     "execution_count": 129,
     "metadata": {},
     "output_type": "execute_result"
    }
   ],
   "source": [
    "A"
   ]
  },
  {
   "cell_type": "code",
   "execution_count": 130,
   "id": "3461bc30",
   "metadata": {},
   "outputs": [],
   "source": [
    "B = 0"
   ]
  },
  {
   "cell_type": "code",
   "execution_count": 131,
   "id": "4b80f5d8",
   "metadata": {},
   "outputs": [],
   "source": [
    "for i in range(0,22):\n",
    "    B+= colB[i]"
   ]
  },
  {
   "cell_type": "code",
   "execution_count": 132,
   "id": "6b8e17d1",
   "metadata": {},
   "outputs": [
    {
     "data": {
      "text/plain": [
       "87413"
      ]
     },
     "execution_count": 132,
     "metadata": {},
     "output_type": "execute_result"
    }
   ],
   "source": [
    "B"
   ]
  },
  {
   "cell_type": "code",
   "execution_count": 133,
   "id": "5c2dafc3",
   "metadata": {},
   "outputs": [],
   "source": [
    "size = np.shape(colA)[0]"
   ]
  },
  {
   "cell_type": "code",
   "execution_count": 134,
   "id": "769ab57f",
   "metadata": {},
   "outputs": [
    {
     "data": {
      "text/plain": [
       "31"
      ]
     },
     "execution_count": 134,
     "metadata": {},
     "output_type": "execute_result"
    }
   ],
   "source": [
    "size"
   ]
  },
  {
   "cell_type": "code",
   "execution_count": 135,
   "id": "93e05222",
   "metadata": {},
   "outputs": [],
   "source": [
    "C = 0"
   ]
  },
  {
   "cell_type": "code",
   "execution_count": 136,
   "id": "07e0069c",
   "metadata": {},
   "outputs": [],
   "source": [
    "for i in range(0,22):\n",
    "    C+=(colA[i] * colA[i])"
   ]
  },
  {
   "cell_type": "code",
   "execution_count": 137,
   "id": "aadb5afa",
   "metadata": {},
   "outputs": [
    {
     "data": {
      "text/plain": [
       "3795"
      ]
     },
     "execution_count": 137,
     "metadata": {},
     "output_type": "execute_result"
    }
   ],
   "source": [
    "C"
   ]
  },
  {
   "cell_type": "code",
   "execution_count": 138,
   "id": "586f10b2",
   "metadata": {},
   "outputs": [],
   "source": [
    "D = 0"
   ]
  },
  {
   "cell_type": "code",
   "execution_count": 139,
   "id": "66c90eb8",
   "metadata": {},
   "outputs": [],
   "source": [
    "for i in range(0,22):\n",
    "    D+=(colA[i] * colB[i])"
   ]
  },
  {
   "cell_type": "code",
   "execution_count": 140,
   "id": "0a85a67f",
   "metadata": {},
   "outputs": [
    {
     "name": "stdout",
     "output_type": "stream",
     "text": [
      "value of d is  1026269\n"
     ]
    }
   ],
   "source": [
    "print(\"value of d is \",D)\n",
    "m=size"
   ]
  },
  {
   "cell_type": "code",
   "execution_count": 141,
   "id": "d54b1cd1",
   "metadata": {},
   "outputs": [],
   "source": [
    "W0 = 0"
   ]
  },
  {
   "cell_type": "code",
   "execution_count": 142,
   "id": "c47bfad5",
   "metadata": {},
   "outputs": [],
   "source": [
    "A = A\n",
    "B = B\n",
    "C = C\n",
    "D = D"
   ]
  },
  {
   "cell_type": "code",
   "execution_count": 143,
   "id": "423f0e86",
   "metadata": {},
   "outputs": [],
   "source": [
    "W0 = (((A*D)-(C*B))/((A*A)-(22*C)))"
   ]
  },
  {
   "cell_type": "code",
   "execution_count": 144,
   "id": "7b3de714",
   "metadata": {},
   "outputs": [],
   "source": [
    "W1 = (((A*B)-(22*D))/((A*A)-(22*C)))"
   ]
  },
  {
   "cell_type": "code",
   "execution_count": 145,
   "id": "e8f20200",
   "metadata": {},
   "outputs": [
    {
     "name": "stdout",
     "output_type": "stream",
     "text": [
      "3700.3376623376626   23.737436476566913\n"
     ]
    }
   ],
   "source": [
    "print(W0,\" \",W1)"
   ]
  },
  {
   "cell_type": "code",
   "execution_count": 146,
   "id": "c1a87fcb",
   "metadata": {},
   "outputs": [
    {
     "name": "stdout",
     "output_type": "stream",
     "text": [
      "3700.3376623376626\n",
      "3689\n"
     ]
    }
   ],
   "source": [
    "print(W0 + W1*0)\n",
    "print(colB[0])"
   ]
  },
  {
   "cell_type": "code",
   "execution_count": 147,
   "id": "de075cd0",
   "metadata": {},
   "outputs": [],
   "source": [
    "yvals1=[]"
   ]
  },
  {
   "cell_type": "code",
   "execution_count": 148,
   "id": "5ecfa138",
   "metadata": {},
   "outputs": [],
   "source": [
    "for i in range(22,31):\n",
    "    yvals1.append(W0 + W1*colA[i])"
   ]
  },
  {
   "cell_type": "code",
   "execution_count": 149,
   "id": "b24b25eb",
   "metadata": {},
   "outputs": [
    {
     "data": {
      "text/plain": [
       "[4246.298701298701,\n",
       " 4270.036137775269,\n",
       " 4293.773574251835,\n",
       " 4317.511010728403,\n",
       " 4341.248447204969,\n",
       " 4364.9858836815365,\n",
       " 4388.723320158103,\n",
       " 4412.460756634669,\n",
       " 4436.198193111237]"
      ]
     },
     "execution_count": 149,
     "metadata": {},
     "output_type": "execute_result"
    }
   ],
   "source": [
    "yvals1"
   ]
  },
  {
   "cell_type": "code",
   "execution_count": 150,
   "id": "6aa86b7c",
   "metadata": {},
   "outputs": [
    {
     "name": "stdout",
     "output_type": "stream",
     "text": [
      "393824.64380993915\n"
     ]
    }
   ],
   "source": [
    "mse1 = 0\n",
    "\n",
    "for i in range(22,31):\n",
    "    mse1+=((colB[i] - yvals1[i-22])*(colB[i] - yvals1[i-22]))\n",
    "\n",
    "print(mse1/18)\n",
    "\n",
    "#print(mse1/size,\"is mean sq error of this sample\")"
   ]
  },
  {
   "cell_type": "code",
   "execution_count": 151,
   "id": "4f3ceb90",
   "metadata": {},
   "outputs": [
    {
     "name": "stdout",
     "output_type": "stream",
     "text": [
      "death on 20th april  3462.9632975719933\n"
     ]
    }
   ],
   "source": [
    "print(\"death on 20th april \", (W0+(-10)*W1))"
   ]
  },
  {
   "cell_type": "code",
   "execution_count": 152,
   "id": "e7ffc22f",
   "metadata": {},
   "outputs": [
    {
     "name": "stdout",
     "output_type": "stream",
     "text": [
      "death on 10 june  4673.572557876906\n"
     ]
    }
   ],
   "source": [
    "print(\"death on 10 june \", W0+ W1*41)"
   ]
  },
  {
   "cell_type": "markdown",
   "id": "91da6daf",
   "metadata": {},
   "source": [
    "# Quadratic"
   ]
  },
  {
   "cell_type": "code",
   "execution_count": 153,
   "id": "eb162dfd",
   "metadata": {},
   "outputs": [],
   "source": [
    "colC = colA.copy()"
   ]
  },
  {
   "cell_type": "code",
   "execution_count": 154,
   "id": "b33987a5",
   "metadata": {},
   "outputs": [],
   "source": [
    "colC = colC[:22]"
   ]
  },
  {
   "cell_type": "code",
   "execution_count": 155,
   "id": "927554e4",
   "metadata": {},
   "outputs": [
    {
     "data": {
      "text/plain": [
       "array([ 1,  2,  3,  4,  5,  6,  7,  8,  9, 10, 11, 12, 13, 14, 15, 16, 17,\n",
       "       18, 19, 20, 21, 22])"
      ]
     },
     "execution_count": 155,
     "metadata": {},
     "output_type": "execute_result"
    }
   ],
   "source": [
    "colC"
   ]
  },
  {
   "cell_type": "code",
   "execution_count": 156,
   "id": "2af31e95",
   "metadata": {},
   "outputs": [],
   "source": [
    "for i in range(0,22):\n",
    "    colC[i] = colC[i]*colC[i]"
   ]
  },
  {
   "cell_type": "code",
   "execution_count": 157,
   "id": "f7e5b8a2",
   "metadata": {},
   "outputs": [],
   "source": [
    "colC\n",
    "\n",
    "mcolC = np.mat(colC)"
   ]
  },
  {
   "cell_type": "code",
   "execution_count": 158,
   "id": "c7963c96",
   "metadata": {},
   "outputs": [
    {
     "data": {
      "text/plain": [
       "matrix([[  1,   4,   9,  16,  25,  36,  49,  64,  81, 100, 121, 144, 169,\n",
       "         196, 225, 256, 289, 324, 361, 400, 441, 484]])"
      ]
     },
     "execution_count": 158,
     "metadata": {},
     "output_type": "execute_result"
    }
   ],
   "source": [
    "mcolC"
   ]
  },
  {
   "cell_type": "code",
   "execution_count": 159,
   "id": "78095724",
   "metadata": {},
   "outputs": [],
   "source": [
    "colD = np.ones((1,22),dtype='int64')"
   ]
  },
  {
   "cell_type": "code",
   "execution_count": 160,
   "id": "512f4e2d",
   "metadata": {},
   "outputs": [],
   "source": [
    "mcolD = np.mat(colD)"
   ]
  },
  {
   "cell_type": "code",
   "execution_count": 161,
   "id": "cc951a9f",
   "metadata": {},
   "outputs": [
    {
     "data": {
      "text/plain": [
       "matrix([[1, 1, 1, 1, 1, 1, 1, 1, 1, 1, 1, 1, 1, 1, 1, 1, 1, 1, 1, 1, 1,\n",
       "         1]])"
      ]
     },
     "execution_count": 161,
     "metadata": {},
     "output_type": "execute_result"
    }
   ],
   "source": [
    "mcolD"
   ]
  },
  {
   "cell_type": "code",
   "execution_count": 162,
   "id": "c8f63cdb",
   "metadata": {},
   "outputs": [],
   "source": [
    "ccolA = colA[:22]"
   ]
  },
  {
   "cell_type": "code",
   "execution_count": 163,
   "id": "60d9a423",
   "metadata": {},
   "outputs": [
    {
     "data": {
      "text/plain": [
       "array([ 1,  2,  3,  4,  5,  6,  7,  8,  9, 10, 11, 12, 13, 14, 15, 16, 17,\n",
       "       18, 19, 20, 21, 22])"
      ]
     },
     "execution_count": 163,
     "metadata": {},
     "output_type": "execute_result"
    }
   ],
   "source": [
    "ccolA"
   ]
  },
  {
   "cell_type": "code",
   "execution_count": 164,
   "id": "cc184463",
   "metadata": {},
   "outputs": [],
   "source": [
    "mmcolA = np.mat(ccolA)"
   ]
  },
  {
   "cell_type": "code",
   "execution_count": 165,
   "id": "45206c7e",
   "metadata": {},
   "outputs": [],
   "source": [
    "newX = np.hstack((mcolD.T,mmcolA.T,mcolC.T))"
   ]
  },
  {
   "cell_type": "code",
   "execution_count": 166,
   "id": "531ab141",
   "metadata": {},
   "outputs": [
    {
     "data": {
      "text/plain": [
       "matrix([[  1,   1,   1],\n",
       "        [  1,   2,   4],\n",
       "        [  1,   3,   9],\n",
       "        [  1,   4,  16],\n",
       "        [  1,   5,  25],\n",
       "        [  1,   6,  36],\n",
       "        [  1,   7,  49],\n",
       "        [  1,   8,  64],\n",
       "        [  1,   9,  81],\n",
       "        [  1,  10, 100],\n",
       "        [  1,  11, 121],\n",
       "        [  1,  12, 144],\n",
       "        [  1,  13, 169],\n",
       "        [  1,  14, 196],\n",
       "        [  1,  15, 225],\n",
       "        [  1,  16, 256],\n",
       "        [  1,  17, 289],\n",
       "        [  1,  18, 324],\n",
       "        [  1,  19, 361],\n",
       "        [  1,  20, 400],\n",
       "        [  1,  21, 441],\n",
       "        [  1,  22, 484]])"
      ]
     },
     "execution_count": 166,
     "metadata": {},
     "output_type": "execute_result"
    }
   ],
   "source": [
    "newX"
   ]
  },
  {
   "cell_type": "code",
   "execution_count": 167,
   "id": "76be7bc3",
   "metadata": {},
   "outputs": [],
   "source": [
    "mmcolB= np.mat(colB[:22])"
   ]
  },
  {
   "cell_type": "code",
   "execution_count": 168,
   "id": "861cf3ab",
   "metadata": {},
   "outputs": [],
   "source": [
    "w=np.dot(np.linalg.inv(np.dot(newX.T,newX)),np.dot(newX.T,mmcolB.T))"
   ]
  },
  {
   "cell_type": "code",
   "execution_count": 169,
   "id": "f6cb9fcc",
   "metadata": {},
   "outputs": [
    {
     "name": "stdout",
     "output_type": "stream",
     "text": [
      "[[ 3.42722727e+03]\n",
      " [ 9.20150339e+01]\n",
      " [-2.96859119e+00]]\n"
     ]
    }
   ],
   "source": [
    "print(w)"
   ]
  },
  {
   "cell_type": "code",
   "execution_count": 170,
   "id": "48b9a4f5",
   "metadata": {},
   "outputs": [
    {
     "name": "stdout",
     "output_type": "stream",
     "text": [
      "value of W0 is  [[3427.22727273]]  value of W1 is  [[92.01503388]] value of W2 is  [[-2.96859119]]\n"
     ]
    }
   ],
   "source": [
    "print(\"value of W0 is \",w[0],\" value of W1 is \",w[1],\"value of W2 is \",w[2])"
   ]
  },
  {
   "cell_type": "code",
   "execution_count": 171,
   "id": "fc042b60",
   "metadata": {},
   "outputs": [],
   "source": [
    "yvals =[]"
   ]
  },
  {
   "cell_type": "code",
   "execution_count": 172,
   "id": "ce6f0a66",
   "metadata": {},
   "outputs": [],
   "source": [
    "for i in range(22,31):\n",
    "    yvals.append(1*w[0]+colA[i]*w[1]+(colA[i]*colA[i])*w[2])\n",
    "    #print(row)\n",
    "    #yvals.append(row)"
   ]
  },
  {
   "cell_type": "code",
   "execution_count": 173,
   "id": "b1444c6f",
   "metadata": {},
   "outputs": [
    {
     "data": {
      "text/plain": [
       "[matrix([[3973.18831169]]),\n",
       " matrix([[3925.67955957]]),\n",
       " matrix([[3872.23362507]]),\n",
       " matrix([[3812.85050819]]),\n",
       " matrix([[3747.53020892]]),\n",
       " matrix([[3676.27272727]]),\n",
       " matrix([[3599.07806324]]),\n",
       " matrix([[3515.94621683]]),\n",
       " matrix([[3426.87718803]])]"
      ]
     },
     "execution_count": 173,
     "metadata": {},
     "output_type": "execute_result"
    }
   ],
   "source": [
    "yvals"
   ]
  },
  {
   "cell_type": "code",
   "execution_count": 174,
   "id": "e3d08718",
   "metadata": {},
   "outputs": [],
   "source": [
    "#mean square error\n",
    "mse=0\n",
    "for i in range(22,31):\n",
    "    mse+=(colB[i] - yvals[i-22].item(0,0))*(colB[i] - yvals[i-22].item(0,0))"
   ]
  },
  {
   "cell_type": "code",
   "execution_count": 175,
   "id": "6901cc9a",
   "metadata": {},
   "outputs": [
    {
     "name": "stdout",
     "output_type": "stream",
     "text": [
      "59204.75789298179 is mean sq error of this sample\n"
     ]
    }
   ],
   "source": [
    "print(mse/18,\"is mean sq error of this sample\")"
   ]
  },
  {
   "cell_type": "code",
   "execution_count": 176,
   "id": "2386e743",
   "metadata": {},
   "outputs": [
    {
     "name": "stdout",
     "output_type": "stream",
     "text": [
      "death on 20th april  [[2803.93605308]]\n"
     ]
    }
   ],
   "source": [
    "print(\"death on 20th april \", w[0]+(-10)*w[1]+(-100)*w[2])"
   ]
  },
  {
   "cell_type": "code",
   "execution_count": 177,
   "id": "7bd5e57b",
   "metadata": {},
   "outputs": [
    {
     "name": "stdout",
     "output_type": "stream",
     "text": [
      "death on 20th april  [[2209.641869]]\n"
     ]
    }
   ],
   "source": [
    "print(\"death on 20th april \", w[0]+(41)*w[1]+(1681)*w[2])"
   ]
  },
  {
   "cell_type": "code",
   "execution_count": null,
   "id": "ff067b28",
   "metadata": {},
   "outputs": [],
   "source": []
  }
 ],
 "metadata": {
  "kernelspec": {
   "display_name": "Python 3 (ipykernel)",
   "language": "python",
   "name": "python3"
  },
  "language_info": {
   "codemirror_mode": {
    "name": "ipython",
    "version": 3
   },
   "file_extension": ".py",
   "mimetype": "text/x-python",
   "name": "python",
   "nbconvert_exporter": "python",
   "pygments_lexer": "ipython3",
   "version": "3.8.10"
  }
 },
 "nbformat": 4,
 "nbformat_minor": 5
}
