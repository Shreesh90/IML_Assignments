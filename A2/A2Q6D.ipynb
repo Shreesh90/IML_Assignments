{
  "nbformat": 4,
  "nbformat_minor": 5,
  "metadata": {
    "kernelspec": {
      "display_name": "Python 3 (ipykernel)",
      "language": "python",
      "name": "python3"
    },
    "language_info": {
      "codemirror_mode": {
        "name": "ipython",
        "version": 3
      },
      "file_extension": ".py",
      "mimetype": "text/x-python",
      "name": "python",
      "nbconvert_exporter": "python",
      "pygments_lexer": "ipython3",
      "version": "3.8.10"
    },
    "colab": {
      "name": "A2Q6D.ipynb",
      "provenance": [],
      "collapsed_sections": [],
      "toc_visible": true
    }
  },
  "cells": [
    {
      "cell_type": "markdown",
      "metadata": {
        "id": "cUUrW9VfK1fG"
      },
      "source": [
        "# Importing required Libraries"
      ],
      "id": "cUUrW9VfK1fG"
    },
    {
      "cell_type": "code",
      "metadata": {
        "id": "328ecee4"
      },
      "source": [
        "import numpy as np\n",
        "import pandas as pd\n",
        "import random\n",
        "import math\n",
        "\n",
        "url = \"https://raw.githubusercontent.com/Shreesh90/IML_Assignments/master/A2/HousingPrice.csv\"\n",
        "\n",
        "df = pd.read_csv(url)\n",
        "\n",
        "Price = df['price']\n",
        "FloorArea = df['lotsize']\n",
        "NoOfBedrooms = df['bedrooms']\n",
        "NoOfBathrooms = df['bathrms']\n",
        "\n",
        "MatrixY = Price\n",
        "MatrixY = np.array(MatrixY)\n",
        "MatrixY = MatrixY.reshape(MatrixY.shape[0], 1)"
      ],
      "id": "328ecee4",
      "execution_count": null,
      "outputs": []
    },
    {
      "cell_type": "markdown",
      "metadata": {
        "id": "639032d0"
      },
      "source": [
        "## Feature scaling on FloorArea"
      ],
      "id": "639032d0"
    },
    {
      "cell_type": "code",
      "metadata": {
        "colab": {
          "base_uri": "https://localhost:8080/"
        },
        "id": "fa232ecc",
        "outputId": "48558f22-d7b3-4b91-9a00-0e5af7bd58d9"
      },
      "source": [
        "# FLOOR AREA HAS HIGH VARIANCE SO IT IS IMPORTANT TO SCALE THIS FEATURE\n",
        "\n",
        "FloorAreaMean = np.mean(FloorArea)\n",
        "FloorAreaMin = min(FloorArea)\n",
        "FloorAreaMax = max(FloorArea)\n",
        "FloorAreaScaled = (FloorArea - FloorAreaMean)/(FloorAreaMax - FloorAreaMin)\n",
        "FloorArea, FloorAreaScaled\n"
      ],
      "id": "fa232ecc",
      "execution_count": null,
      "outputs": [
        {
          "output_type": "execute_result",
          "data": {
            "text/plain": [
              "(0      5850\n",
              " 1      4000\n",
              " 2      3060\n",
              " 3      6650\n",
              " 4      6360\n",
              "        ... \n",
              " 541    4800\n",
              " 542    6000\n",
              " 543    6000\n",
              " 544    6000\n",
              " 545    6000\n",
              " Name: lotsize, Length: 546, dtype: int64, 0      0.048092\n",
              " 1     -0.079056\n",
              " 2     -0.143661\n",
              " 3      0.103075\n",
              " 4      0.083143\n",
              "          ...   \n",
              " 541   -0.024073\n",
              " 542    0.058401\n",
              " 543    0.058401\n",
              " 544    0.058401\n",
              " 545    0.058401\n",
              " Name: lotsize, Length: 546, dtype: float64)"
            ]
          },
          "metadata": {},
          "execution_count": 2
        }
      ]
    },
    {
      "cell_type": "markdown",
      "metadata": {
        "id": "fa01fdc8"
      },
      "source": [
        "# Declaring Useful Variables"
      ],
      "id": "fa01fdc8"
    },
    {
      "cell_type": "code",
      "metadata": {
        "colab": {
          "base_uri": "https://localhost:8080/"
        },
        "id": "f3b77b8e",
        "outputId": "517bd3eb-c419-4729-ae48-dae68c8bb5c0"
      },
      "source": [
        "n, m = df.shape\n",
        "n, m"
      ],
      "id": "f3b77b8e",
      "execution_count": null,
      "outputs": [
        {
          "output_type": "execute_result",
          "data": {
            "text/plain": [
              "(546, 13)"
            ]
          },
          "metadata": {},
          "execution_count": 3
        }
      ]
    },
    {
      "cell_type": "code",
      "metadata": {
        "colab": {
          "base_uri": "https://localhost:8080/"
        },
        "id": "699a6caf",
        "outputId": "256a6c2b-0486-40ab-b062-98ccd8e04aca"
      },
      "source": [
        "n_train = math.floor(n * 0.70)\n",
        "n_test = n - n_train\n",
        "n_train, n_test"
      ],
      "id": "699a6caf",
      "execution_count": null,
      "outputs": [
        {
          "output_type": "execute_result",
          "data": {
            "text/plain": [
              "(382, 164)"
            ]
          },
          "metadata": {},
          "execution_count": 4
        }
      ]
    },
    {
      "cell_type": "code",
      "metadata": {
        "colab": {
          "base_uri": "https://localhost:8080/"
        },
        "id": "a2f49b99",
        "outputId": "db62f130-7ac4-45d9-eb2b-16136b04b907"
      },
      "source": [
        "col = [1] * n\n",
        "data_scaling = list(zip(col,FloorAreaScaled,NoOfBedrooms,NoOfBathrooms))\n",
        "len(data_scaling)"
      ],
      "id": "a2f49b99",
      "execution_count": null,
      "outputs": [
        {
          "output_type": "execute_result",
          "data": {
            "text/plain": [
              "546"
            ]
          },
          "metadata": {},
          "execution_count": 5
        }
      ]
    },
    {
      "cell_type": "code",
      "metadata": {
        "id": "3b63c6b8"
      },
      "source": [
        "# X_train, Y_train, X_test, Y_test with scaling\n",
        "X_train = np.array(data_scaling[:n_train])\n",
        "Y_train = np.array(Price[:n_train])\n",
        "\n",
        "X_test = np.array(data_scaling[n_train+1:])\n",
        "Y_test = np.array(Price[n_train+1:])"
      ],
      "id": "3b63c6b8",
      "execution_count": null,
      "outputs": []
    },
    {
      "cell_type": "markdown",
      "metadata": {
        "id": "1fb4847b"
      },
      "source": [
        "# LWR"
      ],
      "id": "1fb4847b"
    },
    {
      "cell_type": "code",
      "metadata": {
        "id": "7542f9f0"
      },
      "source": [
        "def calculate_error(MatrixY, Y_pred):\n",
        "    error = 0\n",
        "    for i in range(len(MatrixY)):\n",
        "        error += abs(MatrixY[i] - Y_pred[i]) / MatrixY[i]\n",
        "    error = error / len(MatrixY)\n",
        "    return error * 100\n",
        "\n",
        "def kernel(MatrixX, xi, HyperParameterTau):\n",
        "    return np.exp(-np.sum((xi - MatrixX) ** 2, axis = 1) / (2 * HyperParameterTau * HyperParameterTau))\n",
        "\n",
        "def LocallyWeightedLR(MatrixX, xi, MatrixY, HyperParameterTau):\n",
        "\tTransposeMatrixX = np.transpose(MatrixX)\n",
        "\tW = kernel(MatrixX, xi, HyperParameterTau)\n",
        "\tMatrixXTransposeW = TransposeMatrixX * W\n",
        "\tMatrixXTransposeWX = np.matmul(MatrixXTransposeW, MatrixX)\n",
        "\tInverseMatrixXTransposeWX = np.linalg.pinv(MatrixXTransposeWX)\n",
        "\tInverseMatrixXTransposeWXMatrixXTransposeW = np.matmul(InverseMatrixXTransposeWX, MatrixXTransposeW)\n",
        "\tInverseMatrixXTransposeWXMatrixXTransposeWY = np.matmul(InverseMatrixXTransposeWXMatrixXTransposeW, MatrixY)\n",
        "\tInverseMatrixXTransposeWXMatrixXTransposeWYTranspose = np.transpose(InverseMatrixXTransposeWXMatrixXTransposeWY)\n",
        "\treturn InverseMatrixXTransposeWXMatrixXTransposeWYTranspose.dot(xi)\n"
      ],
      "id": "7542f9f0",
      "execution_count": null,
      "outputs": []
    },
    {
      "cell_type": "markdown",
      "metadata": {
        "id": "oRDeLHYL9k-E"
      },
      "source": [
        "# Using Multiple values of Tau"
      ],
      "id": "oRDeLHYL9k-E"
    },
    {
      "cell_type": "code",
      "metadata": {
        "colab": {
          "base_uri": "https://localhost:8080/"
        },
        "id": "59dbd912",
        "outputId": "a9de8028-ed63-4829-d3f8-b2f368a49118"
      },
      "source": [
        "MatrixX = []\n",
        "for i in range(len(FloorArea)):\n",
        "\tMatrixX.append([1, FloorAreaScaled[i], NoOfBedrooms[i], NoOfBathrooms[i]])\n",
        "MatrixX = np.array(MatrixX)\n",
        "\n",
        "Taus = [0.1, 0.01, 0.02, 0.001, 0.001, 0.0001, 0.00001, 0.000001]\n",
        "errors = []\n",
        "for Tau in Taus:\n",
        "  print(\"Using Locally Weighted Linear Regression for Tau = \" + str(Tau))\n",
        "  pred = []\n",
        "  for i in range(MatrixX.shape[0]):\n",
        "    y_pred = LocallyWeightedLR(MatrixX, MatrixX[i], MatrixY, Tau)\n",
        "    pred.append(y_pred)\n",
        "  print(\"Mean absolute percentage error is : \" + str(calculate_error(MatrixY,pred)))\n",
        "  errors.append(calculate_error(MatrixY,pred))"
      ],
      "id": "59dbd912",
      "execution_count": null,
      "outputs": [
        {
          "output_type": "stream",
          "name": "stdout",
          "text": [
            "Using Locally Weighted Linear Regression for Tau = 0.1\n",
            "Mean absolute percentage error is : [20.14065581]\n",
            "Using Locally Weighted Linear Regression for Tau = 0.01\n",
            "Mean absolute percentage error is : [16.41583941]\n",
            "Using Locally Weighted Linear Regression for Tau = 0.02\n",
            "Mean absolute percentage error is : [18.12596846]\n",
            "Using Locally Weighted Linear Regression for Tau = 0.001\n",
            "Mean absolute percentage error is : [7.56066413]\n",
            "Using Locally Weighted Linear Regression for Tau = 0.001\n",
            "Mean absolute percentage error is : [7.56066413]\n",
            "Using Locally Weighted Linear Regression for Tau = 0.0001\n",
            "Mean absolute percentage error is : [5.40856556]\n",
            "Using Locally Weighted Linear Regression for Tau = 1e-05\n",
            "Mean absolute percentage error is : [5.40730554]\n",
            "Using Locally Weighted Linear Regression for Tau = 1e-06\n",
            "Mean absolute percentage error is : [5.40730554]\n"
          ]
        }
      ]
    },
    {
      "cell_type": "markdown",
      "metadata": {
        "id": "aqnf1zja9mzd"
      },
      "source": [
        "# Plotting Graph for different values of Tau vs Error"
      ],
      "id": "aqnf1zja9mzd"
    },
    {
      "cell_type": "code",
      "metadata": {
        "colab": {
          "base_uri": "https://localhost:8080/",
          "height": 295
        },
        "id": "GN2hzB0h8Km7",
        "outputId": "b37848dc-a2c0-4cf2-8426-2d09fdd67eb5"
      },
      "source": [
        "import matplotlib.pyplot as plt\n",
        "plt.plot(Taus,errors)\n",
        "plt.xlabel(\"Tau values\")\n",
        "plt.ylabel(\"mean absolute % error\")\n",
        "plt.title(\"LWR Tau vs mean absolute % error\")\n",
        "plt.show()"
      ],
      "id": "GN2hzB0h8Km7",
      "execution_count": null,
      "outputs": [
        {
          "output_type": "display_data",
          "data": {
            "image/png": "[encoded data removed]",
            "text/plain": [
              "<Figure size 432x288 with 1 Axes>"
            ]
          },
          "metadata": {
            "needs_background": "light"
          }
        }
      ]
    },
    {
      "cell_type": "markdown",
      "metadata": {
        "id": "7a9c5627"
      },
      "source": [
        "# Batch Gradient Descent with regularization"
      ],
      "id": "7a9c5627"
    },
    {
      "cell_type": "code",
      "metadata": {
        "id": "26bf20a2"
      },
      "source": [
        "# FUNCTION TO FIND SLOPE\n",
        "def Slope(theta, X_train, Y_train):\n",
        "    slope = np.zeros(theta.shape)\n",
        "    for i in range(len(X_train)):\n",
        "        itr = 0\n",
        "        for j in range(theta.shape[1]):\n",
        "            itr = itr + theta[0][j] * X_train[i][j]\n",
        "        slope += (itr - Y_train[i]) * X_train[i]\n",
        "    return slope"
      ],
      "id": "26bf20a2",
      "execution_count": null,
      "outputs": []
    },
    {
      "cell_type": "code",
      "metadata": {
        "colab": {
          "base_uri": "https://localhost:8080/"
        },
        "id": "31f3190b",
        "outputId": "cbba17d9-7b17-4387-ddfa-9a411e4890ea"
      },
      "source": [
        "lr = 0.001\n",
        "Lambda = -120\n",
        "theta = np.zeros((1,4))\n",
        "theta"
      ],
      "id": "31f3190b",
      "execution_count": null,
      "outputs": [
        {
          "output_type": "execute_result",
          "data": {
            "text/plain": [
              "array([[0., 0., 0., 0.]])"
            ]
          },
          "metadata": {},
          "execution_count": 47
        }
      ]
    },
    {
      "cell_type": "code",
      "metadata": {
        "colab": {
          "base_uri": "https://localhost:8080/"
        },
        "id": "5b936a0d",
        "outputId": "da7beeaf-4e33-4646-dc09-e23cfdbe1034"
      },
      "source": [
        "for epochs in range(5000):\n",
        "    cof = 1 - ((lr*Lambda)/n_train)\n",
        "    theta = cof*theta - (lr/n_train)*Slope(theta, X_train,Y_train)\n",
        "theta"
      ],
      "id": "5b936a0d",
      "execution_count": null,
      "outputs": [
        {
          "output_type": "execute_result",
          "data": {
            "text/plain": [
              "array([[10854.7790114 , 18034.6716255 ,  5068.24913908, 31438.87102068]])"
            ]
          },
          "metadata": {},
          "execution_count": 48
        }
      ]
    },
    {
      "cell_type": "code",
      "metadata": {
        "colab": {
          "base_uri": "https://localhost:8080/"
        },
        "id": "884189ea",
        "outputId": "0b0f0dcb-123b-477e-c4cc-38f6c7825033"
      },
      "source": [
        "theta = theta.reshape((4,1))\n",
        "theta.shape"
      ],
      "id": "884189ea",
      "execution_count": null,
      "outputs": [
        {
          "output_type": "execute_result",
          "data": {
            "text/plain": [
              "(4, 1)"
            ]
          },
          "metadata": {},
          "execution_count": 49
        }
      ]
    },
    {
      "cell_type": "code",
      "metadata": {
        "colab": {
          "base_uri": "https://localhost:8080/"
        },
        "id": "ceb90f9a",
        "outputId": "b29ae45b-9285-4c79-c4f1-1b68eb98f5e1"
      },
      "source": [
        "Y_pred = np.dot(X_test, theta)\n",
        "error = 0\n",
        "for i in range(n_test-1):\n",
        "    error += abs((Y_test[i] - Y_pred[i])/Y_test[i])\n",
        "error = error/n_test\n",
        "\n",
        "print(\"MEAN ABSOLUTE PERCENTAGE ERROR: \")\n",
        "float(error*100)"
      ],
      "id": "ceb90f9a",
      "execution_count": null,
      "outputs": [
        {
          "output_type": "stream",
          "name": "stdout",
          "text": [
            "MEAN ABSOLUTE PERCENTAGE ERROR: \n"
          ]
        },
        {
          "output_type": "execute_result",
          "data": {
            "text/plain": [
              "18.92124816522627"
            ]
          },
          "metadata": {},
          "execution_count": 50
        }
      ]
    },
    {
      "cell_type": "markdown",
      "metadata": {
        "id": "88836f43"
      },
      "source": [
        "# Using Stochastic gradient with Regularization"
      ],
      "id": "88836f43"
    },
    {
      "cell_type": "code",
      "metadata": {
        "id": "ca3d0f3b"
      },
      "source": [
        "# FUNCTION TO FIND SLOPE FOR STOCHASTIC DESCENT\n",
        "def SlopeStoch(theta, X_train, Y, ind):\n",
        "\titr = 0\n",
        "\tfor j in range(theta.shape[1]):\n",
        "\t\titr = itr + theta[0][j]*X_train[j]\n",
        "\treturn (itr - Y) * X_train[ind]\n"
      ],
      "id": "ca3d0f3b",
      "execution_count": null,
      "outputs": []
    },
    {
      "cell_type": "code",
      "metadata": {
        "colab": {
          "base_uri": "https://localhost:8080/"
        },
        "id": "bb21094a",
        "outputId": "9e129887-6e1d-49e7-98bc-e4aa6bca0834"
      },
      "source": [
        "lr = 0.00001\n",
        "Lambda = 30\n",
        "theta = np.zeros((1,4))\n",
        "theta"
      ],
      "id": "bb21094a",
      "execution_count": null,
      "outputs": [
        {
          "output_type": "execute_result",
          "data": {
            "text/plain": [
              "array([[0., 0., 0., 0.]])"
            ]
          },
          "metadata": {},
          "execution_count": 52
        }
      ]
    },
    {
      "cell_type": "code",
      "metadata": {
        "colab": {
          "base_uri": "https://localhost:8080/"
        },
        "id": "9be0b639",
        "outputId": "8f4ea334-7db5-40b9-b8d9-193f5286702f"
      },
      "source": [
        "for itr in range(10):\n",
        "  for i in range(X_train.shape[0]):\n",
        "    cof = 1-((Lambda*lr)/n_train)\n",
        "    theta = cof*theta - lr*(SlopeStoch(theta, X_train, Y_train[i], i))\n",
        "theta"
      ],
      "id": "9be0b639",
      "execution_count": null,
      "outputs": [
        {
          "output_type": "execute_result",
          "data": {
            "text/plain": [
              "array([[2219.19847494,   16.93408054, 5538.96715982, 3120.76286454]])"
            ]
          },
          "metadata": {},
          "execution_count": 53
        }
      ]
    },
    {
      "cell_type": "code",
      "metadata": {
        "colab": {
          "base_uri": "https://localhost:8080/"
        },
        "id": "91d155e8",
        "outputId": "93204cf0-329b-4742-b193-1ed12abea642"
      },
      "source": [
        "theta = theta.reshape((4,1))\n",
        "theta.shape"
      ],
      "id": "91d155e8",
      "execution_count": null,
      "outputs": [
        {
          "output_type": "execute_result",
          "data": {
            "text/plain": [
              "(4, 1)"
            ]
          },
          "metadata": {},
          "execution_count": 54
        }
      ]
    },
    {
      "cell_type": "code",
      "metadata": {
        "colab": {
          "base_uri": "https://localhost:8080/"
        },
        "id": "2e1857a3",
        "outputId": "f0b3e2e7-95c1-4944-a1f6-294352b1d915"
      },
      "source": [
        "Y_pred = np.dot(X_test, theta)\n",
        "error = 0\n",
        "for i in range(n_test-1):\n",
        "    error += abs((Y_test[i] - Y_pred[i])) / Y_test[i]\n",
        "error = error/n_test\n",
        "\n",
        "print(\"MEAN ABSOLUTE PERCENTAGE ERROR: \")\n",
        "float(error*100)"
      ],
      "id": "2e1857a3",
      "execution_count": null,
      "outputs": [
        {
          "output_type": "stream",
          "name": "stdout",
          "text": [
            "MEAN ABSOLUTE PERCENTAGE ERROR: \n"
          ]
        },
        {
          "output_type": "execute_result",
          "data": {
            "text/plain": [
              "68.24222400621996"
            ]
          },
          "metadata": {},
          "execution_count": 55
        }
      ]
    },
    {
      "cell_type": "markdown",
      "metadata": {
        "id": "df720f60"
      },
      "source": [
        "# Using Minibatch gradient without regularisation"
      ],
      "id": "df720f60"
    },
    {
      "cell_type": "code",
      "metadata": {
        "id": "8a1f8b1c"
      },
      "source": [
        "# USEFUL FUNCTIONS FOR MINI BATCH GRADIENT \n",
        "def product(w,x):\n",
        "    ans=0\n",
        "    for i in range(x.shape[0]):\n",
        "        ans= ans + w[0][i]*x[i]\n",
        "    return ans\n",
        "\n",
        "def gradient(x,w,y,st,bs):\n",
        "    ans=np.zeros(w.shape)\n",
        "    for i in range(st,st+bs):\n",
        "        if(i>=x.shape[0]):\n",
        "          break\n",
        "        ans=(ans+(product(w,x[i])-y[i])*x[i])\n",
        "    return ans\n"
      ],
      "id": "8a1f8b1c",
      "execution_count": null,
      "outputs": []
    },
    {
      "cell_type": "code",
      "metadata": {
        "colab": {
          "base_uri": "https://localhost:8080/"
        },
        "id": "e083f5be",
        "outputId": "5f3779bc-0e34-4a50-eeb2-38d1968729be"
      },
      "source": [
        "BatchSize = 20;\n",
        "lr = 0.0002\n",
        "Lambda = -20\n",
        "theta = np.zeros((1,4))\n",
        "theta"
      ],
      "id": "e083f5be",
      "execution_count": null,
      "outputs": [
        {
          "output_type": "execute_result",
          "data": {
            "text/plain": [
              "array([[0., 0., 0., 0.]])"
            ]
          },
          "metadata": {},
          "execution_count": 57
        }
      ]
    },
    {
      "cell_type": "code",
      "metadata": {
        "colab": {
          "base_uri": "https://localhost:8080/"
        },
        "id": "bee2fdde",
        "outputId": "39412f80-eac7-4c17-de3a-4ef014f2634b"
      },
      "source": [
        "for itr in range(50):\n",
        "  for i in range(BatchSize):\n",
        "    temp = 1-((Lambda*lr)/BatchSize)\n",
        "    theta = (temp * theta) - (lr * gradient(X_train, theta, Y_train, BatchSize*i, BatchSize))/ BatchSize\n",
        "\n",
        "theta"
      ],
      "id": "bee2fdde",
      "execution_count": null,
      "outputs": [
        {
          "output_type": "execute_result",
          "data": {
            "text/plain": [
              "array([[ 5231.20289362,   247.60936576, 15585.22770405,  7672.11402056]])"
            ]
          },
          "metadata": {},
          "execution_count": 58
        }
      ]
    },
    {
      "cell_type": "code",
      "metadata": {
        "colab": {
          "base_uri": "https://localhost:8080/"
        },
        "id": "7ca8db0a",
        "outputId": "8e054415-05ff-43e0-d99a-3261a6169ec8"
      },
      "source": [
        "theta = theta.reshape((4,1))\n",
        "theta.shape"
      ],
      "id": "7ca8db0a",
      "execution_count": null,
      "outputs": [
        {
          "output_type": "execute_result",
          "data": {
            "text/plain": [
              "(4, 1)"
            ]
          },
          "metadata": {},
          "execution_count": 59
        }
      ]
    },
    {
      "cell_type": "code",
      "metadata": {
        "colab": {
          "base_uri": "https://localhost:8080/"
        },
        "id": "9419b25b",
        "outputId": "ab7e2130-0e2c-4746-c0cd-4599090f4a4f"
      },
      "source": [
        "Y_pred = np.dot(X_test, theta)\n",
        "error = 0\n",
        "for i in range(n_test-1):\n",
        "    error += abs((Y_test[i] - Y_pred[i])/Y_test[i])\n",
        "error = error/n_test\n",
        "\n",
        "print(\"MEAN ABSOLUTE PERCENTAGE ERROR: \")\n",
        "float(error*100)"
      ],
      "id": "9419b25b",
      "execution_count": null,
      "outputs": [
        {
          "output_type": "stream",
          "name": "stdout",
          "text": [
            "MEAN ABSOLUTE PERCENTAGE ERROR: \n"
          ]
        },
        {
          "output_type": "execute_result",
          "data": {
            "text/plain": [
              "23.185650124145248"
            ]
          },
          "metadata": {},
          "execution_count": 60
        }
      ]
    },
    {
      "cell_type": "code",
      "metadata": {
        "id": "87d6613b"
      },
      "source": [
        ""
      ],
      "id": "87d6613b",
      "execution_count": null,
      "outputs": []
    },
    {
      "cell_type": "code",
      "metadata": {
        "id": "a7419667"
      },
      "source": [
        ""
      ],
      "id": "a7419667",
      "execution_count": null,
      "outputs": []
    },
    {
      "cell_type": "code",
      "metadata": {
        "id": "465eba43"
      },
      "source": [
        ""
      ],
      "id": "465eba43",
      "execution_count": null,
      "outputs": []
    }
  ]
}