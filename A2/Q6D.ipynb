{
 "cells": [
  {
   "cell_type": "code",
   "execution_count": 31,
   "id": "328ecee4",
   "metadata": {},
   "outputs": [],
   "source": [
    "import numpy as np\n",
    "import pandas as pd\n",
    "import random\n",
    "import math\n",
    "\n",
    "df = pd.read_csv(\"HousingPrice.csv\")\n",
    "\n",
    "Price = df['price']\n",
    "FloorArea = df['lotsize']\n",
    "NoOfBedrooms = df['bedrooms']\n",
    "NoOfBathrooms = df['bathrms']\n",
    "\n",
    "MatrixY = Price\n",
    "MatrixY = np.array(MatrixY)\n",
    "MatrixY = MatrixY.reshape(MatrixY.shape[0], 1)"
   ]
  },
  {
   "cell_type": "markdown",
   "id": "639032d0",
   "metadata": {},
   "source": [
    "## Feature scaling on FloorArea"
   ]
  },
  {
   "cell_type": "code",
   "execution_count": 32,
   "id": "fa232ecc",
   "metadata": {},
   "outputs": [
    {
     "data": {
      "text/plain": [
       "(0      5850\n",
       " 1      4000\n",
       " 2      3060\n",
       " 3      6650\n",
       " 4      6360\n",
       "        ... \n",
       " 541    4800\n",
       " 542    6000\n",
       " 543    6000\n",
       " 544    6000\n",
       " 545    6000\n",
       " Name: lotsize, Length: 546, dtype: int64,\n",
       " 0      0.048092\n",
       " 1     -0.079056\n",
       " 2     -0.143661\n",
       " 3      0.103075\n",
       " 4      0.083143\n",
       "          ...   \n",
       " 541   -0.024073\n",
       " 542    0.058401\n",
       " 543    0.058401\n",
       " 544    0.058401\n",
       " 545    0.058401\n",
       " Name: lotsize, Length: 546, dtype: float64)"
      ]
     },
     "execution_count": 32,
     "metadata": {},
     "output_type": "execute_result"
    }
   ],
   "source": [
    "FloorAreaMean = np.mean(FloorArea)\n",
    "FloorAreaMin = min(FloorArea)\n",
    "FloorAreaMax = max(FloorArea)\n",
    "FloorAreaScaled = (FloorArea - FloorAreaMean)/(FloorAreaMax - FloorAreaMin)\n",
    "FloorArea, FloorAreaScaled\n"
   ]
  },
  {
   "cell_type": "markdown",
   "id": "fa01fdc8",
   "metadata": {},
   "source": [
    "# Declaring Useful Variables"
   ]
  },
  {
   "cell_type": "code",
   "execution_count": 33,
   "id": "f3b77b8e",
   "metadata": {},
   "outputs": [
    {
     "data": {
      "text/plain": [
       "(546, 13)"
      ]
     },
     "execution_count": 33,
     "metadata": {},
     "output_type": "execute_result"
    }
   ],
   "source": [
    "n, m = df.shape\n",
    "n, m"
   ]
  },
  {
   "cell_type": "code",
   "execution_count": 34,
   "id": "699a6caf",
   "metadata": {},
   "outputs": [
    {
     "data": {
      "text/plain": [
       "(382, 164)"
      ]
     },
     "execution_count": 34,
     "metadata": {},
     "output_type": "execute_result"
    }
   ],
   "source": [
    "n_train = math.floor(n * 0.70)\n",
    "n_test = n - n_train\n",
    "n_train, n_test"
   ]
  },
  {
   "cell_type": "code",
   "execution_count": 35,
   "id": "a2f49b99",
   "metadata": {},
   "outputs": [
    {
     "data": {
      "text/plain": [
       "546"
      ]
     },
     "execution_count": 35,
     "metadata": {},
     "output_type": "execute_result"
    }
   ],
   "source": [
    "col = [1] * n\n",
    "data_scaling = list(zip(col,FloorAreaScaled,NoOfBedrooms,NoOfBathrooms))\n",
    "len(data_scaling)"
   ]
  },
  {
   "cell_type": "code",
   "execution_count": 36,
   "id": "3b63c6b8",
   "metadata": {},
   "outputs": [],
   "source": [
    "# X_train, Y_train, X_test, Y_test with scaling\n",
    "X_train = np.array(data_scaling[:n_train])\n",
    "Y_train = np.array(Price[:n_train])\n",
    "\n",
    "X_test = np.array(data_scaling[n_train+1:])\n",
    "Y_test = np.array(Price[n_train+1:])"
   ]
  },
  {
   "cell_type": "markdown",
   "id": "1fb4847b",
   "metadata": {},
   "source": [
    "# LWR"
   ]
  },
  {
   "cell_type": "code",
   "execution_count": 37,
   "id": "7542f9f0",
   "metadata": {},
   "outputs": [],
   "source": [
    "def calculate_error(MatrixY, Y_pred):\n",
    "    error = 0\n",
    "    for i in range(len(MatrixY)):\n",
    "        error += abs(MatrixY[i] - Y_pred[i]) / MatrixY[i]\n",
    "    error = error / len(MatrixY)\n",
    "    return error * 100\n",
    "\n",
    "def kernel(MatrixX, xi, HyperParameterTau):\n",
    "    return np.exp(-np.sum((xi - MatrixX) ** 2, axis = 1) / (2 * HyperParameterTau * HyperParameterTau))\n",
    "\n",
    "def LocallyWeightedLR(MatrixX, xi, MatrixY, HyperParameterTau):\n",
    "\tTransposeMatrixX = np.transpose(MatrixX)\n",
    "\tW = kernel(MatrixX, xi, HyperParameterTau)\n",
    "\tMatrixXTransposeW = TransposeMatrixX * W\n",
    "\tMatrixXTransposeWX = np.matmul(MatrixXTransposeW, MatrixX)\n",
    "\tInverseMatrixXTransposeWX = np.linalg.pinv(MatrixXTransposeWX)\n",
    "\tInverseMatrixXTransposeWXMatrixXTransposeW = np.matmul(InverseMatrixXTransposeWX, MatrixXTransposeW)\n",
    "\tInverseMatrixXTransposeWXMatrixXTransposeWY = np.matmul(InverseMatrixXTransposeWXMatrixXTransposeW, MatrixY)\n",
    "\tInverseMatrixXTransposeWXMatrixXTransposeWYTranspose = np.transpose(InverseMatrixXTransposeWXMatrixXTransposeWY)\n",
    "\treturn InverseMatrixXTransposeWXMatrixXTransposeWYTranspose.dot(xi)\n"
   ]
  },
  {
   "cell_type": "code",
   "execution_count": 38,
   "id": "59dbd912",
   "metadata": {},
   "outputs": [
    {
     "name": "stdout",
     "output_type": "stream",
     "text": [
      "Using Locally Weighted Linear Regression for Tau = 5e-05\n",
      "Mean absolute percentage error is : [5.40732951]\n"
     ]
    }
   ],
   "source": [
    "MatrixX = []\n",
    "for i in range(len(FloorArea)):\n",
    "\tMatrixX.append([1, FloorAreaScaled[i], NoOfBedrooms[i], NoOfBathrooms[i]])\n",
    "MatrixX = np.array(MatrixX)\n",
    "\n",
    "HyperParameterTau = 0.00005\n",
    "print(\"Using Locally Weighted Linear Regression for Tau = \" + str(HyperParameterTau))\n",
    "pred = []\n",
    "for i in range(MatrixX.shape[0]):\n",
    "\ty_pred = LocallyWeightedLR(MatrixX, MatrixX[i], MatrixY, HyperParameterTau)\n",
    "\tpred.append(y_pred)\n",
    "print(\"Mean absolute percentage error is : \" + str(calculate_error(MatrixY,pred)))"
   ]
  },
  {
   "cell_type": "markdown",
   "id": "7a9c5627",
   "metadata": {},
   "source": [
    "# Batch Gradient Descent with regularization"
   ]
  },
  {
   "cell_type": "code",
   "execution_count": 39,
   "id": "26bf20a2",
   "metadata": {},
   "outputs": [],
   "source": [
    "# FUNCTION TO FIND SLOPE\n",
    "def Slope(theta, X_train, Y_train):\n",
    "    slope = np.zeros(theta.shape)\n",
    "    for i in range(len(X_train)):\n",
    "        itr = 0\n",
    "        for j in range(theta.shape[1]):\n",
    "            itr = itr + theta[0][j] * X_train[i][j]\n",
    "        slope += (itr - Y_train[i]) * X_train[i]\n",
    "    return slope"
   ]
  },
  {
   "cell_type": "code",
   "execution_count": 40,
   "id": "31f3190b",
   "metadata": {},
   "outputs": [
    {
     "data": {
      "text/plain": [
       "array([[0., 0., 0., 0.]])"
      ]
     },
     "execution_count": 40,
     "metadata": {},
     "output_type": "execute_result"
    }
   ],
   "source": [
    "lr = 0.001\n",
    "Lambda = -120\n",
    "theta = np.zeros((1,4))\n",
    "theta"
   ]
  },
  {
   "cell_type": "code",
   "execution_count": 41,
   "id": "5b936a0d",
   "metadata": {},
   "outputs": [
    {
     "data": {
      "text/plain": [
       "array([[10854.7790114 , 18034.6716255 ,  5068.24913908, 31438.87102068]])"
      ]
     },
     "execution_count": 41,
     "metadata": {},
     "output_type": "execute_result"
    }
   ],
   "source": [
    "for epochs in range(5000):\n",
    "    cof = 1 - ((lr*Lambda)/n_train)\n",
    "    theta = cof*theta - (lr/n_train)*Slope(theta, X_train,Y_train)\n",
    "theta"
   ]
  },
  {
   "cell_type": "code",
   "execution_count": 42,
   "id": "884189ea",
   "metadata": {},
   "outputs": [
    {
     "data": {
      "text/plain": [
       "(4, 1)"
      ]
     },
     "execution_count": 42,
     "metadata": {},
     "output_type": "execute_result"
    }
   ],
   "source": [
    "theta = theta.reshape((4,1))\n",
    "theta.shape"
   ]
  },
  {
   "cell_type": "code",
   "execution_count": 43,
   "id": "ceb90f9a",
   "metadata": {},
   "outputs": [
    {
     "name": "stdout",
     "output_type": "stream",
     "text": [
      "MEAN ABSOLUTE PERCENTAGE ERROR: \n"
     ]
    },
    {
     "data": {
      "text/plain": [
       "18.92124816522627"
      ]
     },
     "execution_count": 43,
     "metadata": {},
     "output_type": "execute_result"
    }
   ],
   "source": [
    "Y_pred = np.dot(X_test, theta)\n",
    "error = 0\n",
    "for i in range(n_test-1):\n",
    "    error += abs((Y_test[i] - Y_pred[i])/Y_test[i])\n",
    "error = error/n_test\n",
    "\n",
    "print(\"MEAN ABSOLUTE PERCENTAGE ERROR: \")\n",
    "float(error*100)"
   ]
  },
  {
   "cell_type": "markdown",
   "id": "88836f43",
   "metadata": {},
   "source": [
    "# Using Stochastic gradient with Regularization"
   ]
  },
  {
   "cell_type": "code",
   "execution_count": 44,
   "id": "ca3d0f3b",
   "metadata": {},
   "outputs": [],
   "source": [
    "# FUNCTION TO FIND SLOPE FOR STOCHASTIC DESCENT\n",
    "def SlopeStoch(theta, X_train, Y, ind):\n",
    "\titr = 0\n",
    "\tfor j in range(theta.shape[1]):\n",
    "\t\titr = itr + theta[0][j]*X_train[j]\n",
    "\treturn (itr - Y) * X_train[ind]\n"
   ]
  },
  {
   "cell_type": "code",
   "execution_count": 45,
   "id": "bb21094a",
   "metadata": {},
   "outputs": [
    {
     "data": {
      "text/plain": [
       "array([[0., 0., 0., 0.]])"
      ]
     },
     "execution_count": 45,
     "metadata": {},
     "output_type": "execute_result"
    }
   ],
   "source": [
    "lr = 0.00001\n",
    "Lambda = 30\n",
    "theta = np.zeros((1,4))\n",
    "theta"
   ]
  },
  {
   "cell_type": "code",
   "execution_count": 46,
   "id": "9be0b639",
   "metadata": {},
   "outputs": [
    {
     "data": {
      "text/plain": [
       "array([[2219.19847494,   16.93408054, 5538.96715982, 3120.76286454]])"
      ]
     },
     "execution_count": 46,
     "metadata": {},
     "output_type": "execute_result"
    }
   ],
   "source": [
    "for itr in range(10):\n",
    "  for i in range(X_train.shape[0]):\n",
    "    cof = 1-((Lambda*lr)/n_train)\n",
    "    theta = cof*theta - lr*(SlopeStoch(theta, X_train, Y_train[i], i))\n",
    "theta"
   ]
  },
  {
   "cell_type": "code",
   "execution_count": 47,
   "id": "91d155e8",
   "metadata": {},
   "outputs": [
    {
     "data": {
      "text/plain": [
       "(4, 1)"
      ]
     },
     "execution_count": 47,
     "metadata": {},
     "output_type": "execute_result"
    }
   ],
   "source": [
    "theta = theta.reshape((4,1))\n",
    "theta.shape"
   ]
  },
  {
   "cell_type": "code",
   "execution_count": 48,
   "id": "2e1857a3",
   "metadata": {},
   "outputs": [
    {
     "name": "stdout",
     "output_type": "stream",
     "text": [
      "MEAN ABSOLUTE PERCENTAGE ERROR: \n"
     ]
    },
    {
     "data": {
      "text/plain": [
       "68.24222400621994"
      ]
     },
     "execution_count": 48,
     "metadata": {},
     "output_type": "execute_result"
    }
   ],
   "source": [
    "Y_pred = np.dot(X_test, theta)\n",
    "error = 0\n",
    "for i in range(n_test-1):\n",
    "    error += abs((Y_test[i] - Y_pred[i])) / Y_test[i]\n",
    "error = error/n_test\n",
    "\n",
    "print(\"MEAN ABSOLUTE PERCENTAGE ERROR: \")\n",
    "float(error*100)"
   ]
  },
  {
   "cell_type": "markdown",
   "id": "df720f60",
   "metadata": {},
   "source": [
    "# Using Minibatch gradient without regularisation"
   ]
  },
  {
   "cell_type": "code",
   "execution_count": 49,
   "id": "8a1f8b1c",
   "metadata": {},
   "outputs": [],
   "source": [
    "# USEFUL FUNCTIONS FOR MINI BATCH GRADIENT \n",
    "def product(w,x):\n",
    "    ans=0\n",
    "    for i in range(x.shape[0]):\n",
    "        ans= ans + w[0][i]*x[i]\n",
    "    return ans\n",
    "\n",
    "def gradient(x,w,y,st,bs):\n",
    "    ans=np.zeros(w.shape)\n",
    "    for i in range(st,st+bs):\n",
    "        if(i>=x.shape[0]):\n",
    "          break\n",
    "        ans=(ans+(product(w,x[i])-y[i])*x[i])\n",
    "    return ans\n"
   ]
  },
  {
   "cell_type": "code",
   "execution_count": 50,
   "id": "e083f5be",
   "metadata": {},
   "outputs": [
    {
     "data": {
      "text/plain": [
       "array([[0., 0., 0., 0.]])"
      ]
     },
     "execution_count": 50,
     "metadata": {},
     "output_type": "execute_result"
    }
   ],
   "source": [
    "BatchSize = 20;\n",
    "lr = 0.0002\n",
    "Lambda = -20\n",
    "theta = np.zeros((1,4))\n",
    "theta"
   ]
  },
  {
   "cell_type": "code",
   "execution_count": 51,
   "id": "bee2fdde",
   "metadata": {},
   "outputs": [
    {
     "data": {
      "text/plain": [
       "array([[ 5231.20289362,   247.60936576, 15585.22770405,  7672.11402056]])"
      ]
     },
     "execution_count": 51,
     "metadata": {},
     "output_type": "execute_result"
    }
   ],
   "source": [
    "for itr in range(50):\n",
    "  for i in range(BatchSize):\n",
    "    temp = 1-((Lambda*lr)/BatchSize)\n",
    "    theta = (temp * theta) - (lr * gradient(X_train, theta, Y_train, BatchSize*i, BatchSize))/ BatchSize\n",
    "\n",
    "theta"
   ]
  },
  {
   "cell_type": "code",
   "execution_count": 52,
   "id": "7ca8db0a",
   "metadata": {},
   "outputs": [
    {
     "data": {
      "text/plain": [
       "(4, 1)"
      ]
     },
     "execution_count": 52,
     "metadata": {},
     "output_type": "execute_result"
    }
   ],
   "source": [
    "theta = theta.reshape((4,1))\n",
    "theta.shape"
   ]
  },
  {
   "cell_type": "code",
   "execution_count": 53,
   "id": "9419b25b",
   "metadata": {},
   "outputs": [
    {
     "name": "stdout",
     "output_type": "stream",
     "text": [
      "MEAN ABSOLUTE PERCENTAGE ERROR: \n"
     ]
    },
    {
     "data": {
      "text/plain": [
       "23.185650124145248"
      ]
     },
     "execution_count": 53,
     "metadata": {},
     "output_type": "execute_result"
    }
   ],
   "source": [
    "Y_pred = np.dot(X_test, theta)\n",
    "error = 0\n",
    "for i in range(n_test-1):\n",
    "    error += abs((Y_test[i] - Y_pred[i])/Y_test[i])\n",
    "error = error/n_test\n",
    "\n",
    "print(\"MEAN ABSOLUTE PERCENTAGE ERROR: \")\n",
    "float(error*100)"
   ]
  },
  {
   "cell_type": "code",
   "execution_count": null,
   "id": "87d6613b",
   "metadata": {},
   "outputs": [],
   "source": []
  },
  {
   "cell_type": "code",
   "execution_count": null,
   "id": "a7419667",
   "metadata": {},
   "outputs": [],
   "source": []
  },
  {
   "cell_type": "code",
   "execution_count": null,
   "id": "465eba43",
   "metadata": {},
   "outputs": [],
   "source": []
  }
 ],
 "metadata": {
  "kernelspec": {
   "display_name": "Python 3 (ipykernel)",
   "language": "python",
   "name": "python3"
  },
  "language_info": {
   "codemirror_mode": {
    "name": "ipython",
    "version": 3
   },
   "file_extension": ".py",
   "mimetype": "text/x-python",
   "name": "python",
   "nbconvert_exporter": "python",
   "pygments_lexer": "ipython3",
   "version": "3.8.10"
  }
 },
 "nbformat": 4,
 "nbformat_minor": 5
}
